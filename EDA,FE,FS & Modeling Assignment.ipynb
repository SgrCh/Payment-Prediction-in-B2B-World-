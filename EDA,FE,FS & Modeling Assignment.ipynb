{
 "cells": [
  {
   "cell_type": "markdown",
   "metadata": {},
   "source": [
    "# Building a Machine Learning model to predict the date of payment of an invoice.\n"
   ]
  },
  {
   "cell_type": "code",
   "execution_count": 5,
   "metadata": {},
   "outputs": [],
   "source": [
    "import pandas as pd\n",
    "import numpy as np\n",
    "import datetime\n",
    "import warnings\n",
    "warnings.filterwarnings('ignore')\n",
    "\n",
    "from matplotlib import pyplot as plt\n",
    "import seaborn as sns\n",
    "import math"
   ]
  },
  {
   "cell_type": "code",
   "execution_count": 6,
   "metadata": {},
   "outputs": [
    {
     "data": {
      "text/html": [
       "<div>\n",
       "<style scoped>\n",
       "    .dataframe tbody tr th:only-of-type {\n",
       "        vertical-align: middle;\n",
       "    }\n",
       "\n",
       "    .dataframe tbody tr th {\n",
       "        vertical-align: top;\n",
       "    }\n",
       "\n",
       "    .dataframe thead th {\n",
       "        text-align: right;\n",
       "    }\n",
       "</style>\n",
       "<table border=\"1\" class=\"dataframe\">\n",
       "  <thead>\n",
       "    <tr style=\"text-align: right;\">\n",
       "      <th></th>\n",
       "      <th>business_code</th>\n",
       "      <th>cust_number</th>\n",
       "      <th>name_customer</th>\n",
       "      <th>clear_date</th>\n",
       "      <th>buisness_year</th>\n",
       "      <th>doc_id</th>\n",
       "      <th>posting_date</th>\n",
       "      <th>document_create_date</th>\n",
       "      <th>document_create_date.1</th>\n",
       "      <th>due_in_date</th>\n",
       "      <th>invoice_currency</th>\n",
       "      <th>document type</th>\n",
       "      <th>posting_id</th>\n",
       "      <th>area_business</th>\n",
       "      <th>total_open_amount</th>\n",
       "      <th>baseline_create_date</th>\n",
       "      <th>cust_payment_terms</th>\n",
       "      <th>invoice_id</th>\n",
       "      <th>isOpen</th>\n",
       "    </tr>\n",
       "  </thead>\n",
       "  <tbody>\n",
       "    <tr>\n",
       "      <th>0</th>\n",
       "      <td>U001</td>\n",
       "      <td>0200726979</td>\n",
       "      <td>BJ'S  in</td>\n",
       "      <td>2019-06-27 00:00:00</td>\n",
       "      <td>2019.0</td>\n",
       "      <td>1.929465e+09</td>\n",
       "      <td>2019-06-12</td>\n",
       "      <td>20190610</td>\n",
       "      <td>20190612</td>\n",
       "      <td>20190627.0</td>\n",
       "      <td>USD</td>\n",
       "      <td>RV</td>\n",
       "      <td>1.0</td>\n",
       "      <td>NaN</td>\n",
       "      <td>9222.81</td>\n",
       "      <td>20190612.0</td>\n",
       "      <td>NAA8</td>\n",
       "      <td>1.929465e+09</td>\n",
       "      <td>0</td>\n",
       "    </tr>\n",
       "    <tr>\n",
       "      <th>1</th>\n",
       "      <td>U001</td>\n",
       "      <td>0200799367</td>\n",
       "      <td>MCL associates</td>\n",
       "      <td>2019-10-30 00:00:00</td>\n",
       "      <td>2019.0</td>\n",
       "      <td>1.930008e+09</td>\n",
       "      <td>2019-10-13</td>\n",
       "      <td>20191012</td>\n",
       "      <td>20191013</td>\n",
       "      <td>20191028.0</td>\n",
       "      <td>USD</td>\n",
       "      <td>RV</td>\n",
       "      <td>1.0</td>\n",
       "      <td>NaN</td>\n",
       "      <td>1531.86</td>\n",
       "      <td>20191013.0</td>\n",
       "      <td>NAA8</td>\n",
       "      <td>1.930008e+09</td>\n",
       "      <td>0</td>\n",
       "    </tr>\n",
       "    <tr>\n",
       "      <th>2</th>\n",
       "      <td>U001</td>\n",
       "      <td>0200418007</td>\n",
       "      <td>AM trust</td>\n",
       "      <td>2019-02-28 00:00:00</td>\n",
       "      <td>2019.0</td>\n",
       "      <td>1.928765e+09</td>\n",
       "      <td>2019-02-12</td>\n",
       "      <td>20190208</td>\n",
       "      <td>20190212</td>\n",
       "      <td>20190227.0</td>\n",
       "      <td>USD</td>\n",
       "      <td>RV</td>\n",
       "      <td>1.0</td>\n",
       "      <td>NaN</td>\n",
       "      <td>34818.39</td>\n",
       "      <td>20190212.0</td>\n",
       "      <td>NAA8</td>\n",
       "      <td>1.928765e+09</td>\n",
       "      <td>0</td>\n",
       "    </tr>\n",
       "    <tr>\n",
       "      <th>3</th>\n",
       "      <td>U001</td>\n",
       "      <td>200772670</td>\n",
       "      <td>ASSOCIAT</td>\n",
       "      <td>2019-07-09 00:00:00</td>\n",
       "      <td>2019.0</td>\n",
       "      <td>1.929339e+09</td>\n",
       "      <td>2019-05-22</td>\n",
       "      <td>20190517</td>\n",
       "      <td>20190522</td>\n",
       "      <td>20190606.0</td>\n",
       "      <td>USD</td>\n",
       "      <td>RV</td>\n",
       "      <td>1.0</td>\n",
       "      <td>NaN</td>\n",
       "      <td>273.69</td>\n",
       "      <td>20190522.0</td>\n",
       "      <td>NAU5</td>\n",
       "      <td>1.929339e+09</td>\n",
       "      <td>0</td>\n",
       "    </tr>\n",
       "    <tr>\n",
       "      <th>4</th>\n",
       "      <td>U001</td>\n",
       "      <td>200769623</td>\n",
       "      <td>WAL-MAR llc</td>\n",
       "      <td>2020-01-13 00:00:00</td>\n",
       "      <td>2020.0</td>\n",
       "      <td>1.930332e+09</td>\n",
       "      <td>2020-01-01</td>\n",
       "      <td>20191229</td>\n",
       "      <td>20200101</td>\n",
       "      <td>20200116.0</td>\n",
       "      <td>USD</td>\n",
       "      <td>RV</td>\n",
       "      <td>1.0</td>\n",
       "      <td>NaN</td>\n",
       "      <td>16698.87</td>\n",
       "      <td>20200101.0</td>\n",
       "      <td>NAH4</td>\n",
       "      <td>1.930332e+09</td>\n",
       "      <td>0</td>\n",
       "    </tr>\n",
       "  </tbody>\n",
       "</table>\n",
       "</div>"
      ],
      "text/plain": [
       "  business_code cust_number   name_customer           clear_date  \\\n",
       "0          U001  0200726979        BJ'S  in  2019-06-27 00:00:00   \n",
       "1          U001  0200799367  MCL associates  2019-10-30 00:00:00   \n",
       "2          U001  0200418007        AM trust  2019-02-28 00:00:00   \n",
       "3          U001   200772670       ASSOCIAT   2019-07-09 00:00:00   \n",
       "4          U001   200769623     WAL-MAR llc  2020-01-13 00:00:00   \n",
       "\n",
       "   buisness_year        doc_id posting_date  document_create_date  \\\n",
       "0         2019.0  1.929465e+09   2019-06-12              20190610   \n",
       "1         2019.0  1.930008e+09   2019-10-13              20191012   \n",
       "2         2019.0  1.928765e+09   2019-02-12              20190208   \n",
       "3         2019.0  1.929339e+09   2019-05-22              20190517   \n",
       "4         2020.0  1.930332e+09   2020-01-01              20191229   \n",
       "\n",
       "   document_create_date.1  due_in_date invoice_currency document type  \\\n",
       "0                20190612   20190627.0              USD            RV   \n",
       "1                20191013   20191028.0              USD            RV   \n",
       "2                20190212   20190227.0              USD            RV   \n",
       "3                20190522   20190606.0              USD            RV   \n",
       "4                20200101   20200116.0              USD            RV   \n",
       "\n",
       "   posting_id  area_business  total_open_amount  baseline_create_date  \\\n",
       "0         1.0            NaN            9222.81            20190612.0   \n",
       "1         1.0            NaN            1531.86            20191013.0   \n",
       "2         1.0            NaN           34818.39            20190212.0   \n",
       "3         1.0            NaN             273.69            20190522.0   \n",
       "4         1.0            NaN           16698.87            20200101.0   \n",
       "\n",
       "  cust_payment_terms    invoice_id  isOpen  \n",
       "0               NAA8  1.929465e+09       0  \n",
       "1               NAA8  1.930008e+09       0  \n",
       "2               NAA8  1.928765e+09       0  \n",
       "3               NAU5  1.929339e+09       0  \n",
       "4               NAH4  1.930332e+09       0  "
      ]
     },
     "execution_count": 6,
     "metadata": {},
     "output_type": "execute_result"
    }
   ],
   "source": [
    "#Importing Data Set--> csv.csv\n",
    "df = pd.read_csv('csv.csv')\n",
    "df.head()"
   ]
  },
  {
   "cell_type": "markdown",
   "metadata": {},
   "source": [
    "# Data Pre-Processing and Filtering"
   ]
  },
  {
   "cell_type": "code",
   "execution_count": 7,
   "metadata": {},
   "outputs": [
    {
     "name": "stdout",
     "output_type": "stream",
     "text": [
      "<class 'pandas.core.frame.DataFrame'>\n",
      "RangeIndex: 50000 entries, 0 to 49999\n",
      "Data columns (total 19 columns):\n",
      " #   Column                  Non-Null Count  Dtype  \n",
      "---  ------                  --------------  -----  \n",
      " 0   business_code           50000 non-null  object \n",
      " 1   cust_number             50000 non-null  object \n",
      " 2   name_customer           50000 non-null  object \n",
      " 3   clear_date              45908 non-null  object \n",
      " 4   buisness_year           50000 non-null  float64\n",
      " 5   doc_id                  50000 non-null  float64\n",
      " 6   posting_date            50000 non-null  object \n",
      " 7   document_create_date    50000 non-null  int64  \n",
      " 8   document_create_date.1  50000 non-null  int64  \n",
      " 9   due_in_date             50000 non-null  float64\n",
      " 10  invoice_currency        50000 non-null  object \n",
      " 11  document type           50000 non-null  object \n",
      " 12  posting_id              50000 non-null  float64\n",
      " 13  area_business           0 non-null      float64\n",
      " 14  total_open_amount       50000 non-null  float64\n",
      " 15  baseline_create_date    50000 non-null  float64\n",
      " 16  cust_payment_terms      50000 non-null  object \n",
      " 17  invoice_id              50000 non-null  float64\n",
      " 18  isOpen                  50000 non-null  int64  \n",
      "dtypes: float64(8), int64(3), object(8)\n",
      "memory usage: 7.2+ MB\n"
     ]
    }
   ],
   "source": [
    "df.info()"
   ]
  },
  {
   "cell_type": "code",
   "execution_count": 8,
   "metadata": {},
   "outputs": [],
   "source": [
    "#Converting all date (present in float and object ) to datetime format\n",
    "df['due_in_date'] = pd.to_datetime(df['due_in_date'], format='%Y%m%d')\n",
    "df['document_create_date.1'] = pd.to_datetime(df['document_create_date.1'], format='%Y%m%d')\n",
    "df['clear_date'] = pd.to_datetime(df['clear_date'])\n",
    "df['posting_date'] = pd.to_datetime(df['posting_date'])\n",
    "df['baseline_create_date'] = pd.to_datetime(df['baseline_create_date'], format='%Y%m%d')"
   ]
  },
  {
   "cell_type": "code",
   "execution_count": 9,
   "metadata": {},
   "outputs": [],
   "source": [
    "#Saving a copy of test data for later purpose.\n",
    "test_final=df.loc[df[\"clear_date\"].isnull()].reset_index(drop=True)"
   ]
  },
  {
   "cell_type": "code",
   "execution_count": 10,
   "metadata": {},
   "outputs": [],
   "source": [
    "#Resetting index.\n",
    "test_final.reset_index(inplace = True)\n",
    "test_final.drop(['index'], axis=1, inplace=True)"
   ]
  },
  {
   "cell_type": "code",
   "execution_count": 11,
   "metadata": {},
   "outputs": [
    {
     "name": "stdout",
     "output_type": "stream",
     "text": [
      "<class 'pandas.core.frame.DataFrame'>\n",
      "RangeIndex: 50000 entries, 0 to 49999\n",
      "Data columns (total 19 columns):\n",
      " #   Column                  Non-Null Count  Dtype         \n",
      "---  ------                  --------------  -----         \n",
      " 0   business_code           50000 non-null  object        \n",
      " 1   cust_number             50000 non-null  object        \n",
      " 2   name_customer           50000 non-null  object        \n",
      " 3   clear_date              45908 non-null  datetime64[ns]\n",
      " 4   buisness_year           50000 non-null  float64       \n",
      " 5   doc_id                  50000 non-null  float64       \n",
      " 6   posting_date            50000 non-null  datetime64[ns]\n",
      " 7   document_create_date    50000 non-null  int64         \n",
      " 8   document_create_date.1  50000 non-null  datetime64[ns]\n",
      " 9   due_in_date             50000 non-null  datetime64[ns]\n",
      " 10  invoice_currency        50000 non-null  object        \n",
      " 11  document type           50000 non-null  object        \n",
      " 12  posting_id              50000 non-null  float64       \n",
      " 13  area_business           0 non-null      float64       \n",
      " 14  total_open_amount       50000 non-null  float64       \n",
      " 15  baseline_create_date    50000 non-null  datetime64[ns]\n",
      " 16  cust_payment_terms      50000 non-null  object        \n",
      " 17  invoice_id              50000 non-null  float64       \n",
      " 18  isOpen                  50000 non-null  int64         \n",
      "dtypes: datetime64[ns](5), float64(6), int64(2), object(6)\n",
      "memory usage: 7.2+ MB\n"
     ]
    }
   ],
   "source": [
    "df.info()"
   ]
  },
  {
   "cell_type": "code",
   "execution_count": 12,
   "metadata": {},
   "outputs": [
    {
     "data": {
      "text/plain": [
       "0"
      ]
     },
     "execution_count": 12,
     "metadata": {},
     "output_type": "execute_result"
    }
   ],
   "source": [
    "#Checking for the null values in invoice column.\n",
    "df['invoice_id'].isna().sum()"
   ]
  },
  {
   "cell_type": "code",
   "execution_count": 13,
   "metadata": {},
   "outputs": [],
   "source": [
    "#Dropping\n",
    "df.drop('document_create_date',axis = 1, inplace = True)"
   ]
  },
  {
   "cell_type": "code",
   "execution_count": 14,
   "metadata": {},
   "outputs": [
    {
     "name": "stdout",
     "output_type": "stream",
     "text": [
      "<class 'pandas.core.frame.DataFrame'>\n",
      "RangeIndex: 50000 entries, 0 to 49999\n",
      "Data columns (total 18 columns):\n",
      " #   Column                  Non-Null Count  Dtype         \n",
      "---  ------                  --------------  -----         \n",
      " 0   business_code           50000 non-null  object        \n",
      " 1   cust_number             50000 non-null  object        \n",
      " 2   name_customer           50000 non-null  object        \n",
      " 3   clear_date              45908 non-null  datetime64[ns]\n",
      " 4   buisness_year           50000 non-null  float64       \n",
      " 5   doc_id                  50000 non-null  float64       \n",
      " 6   posting_date            50000 non-null  datetime64[ns]\n",
      " 7   document_create_date.1  50000 non-null  datetime64[ns]\n",
      " 8   due_in_date             50000 non-null  datetime64[ns]\n",
      " 9   invoice_currency        50000 non-null  object        \n",
      " 10  document type           50000 non-null  object        \n",
      " 11  posting_id              50000 non-null  float64       \n",
      " 12  area_business           0 non-null      float64       \n",
      " 13  total_open_amount       50000 non-null  float64       \n",
      " 14  baseline_create_date    50000 non-null  datetime64[ns]\n",
      " 15  cust_payment_terms      50000 non-null  object        \n",
      " 16  invoice_id              50000 non-null  float64       \n",
      " 17  isOpen                  50000 non-null  int64         \n",
      "dtypes: datetime64[ns](5), float64(6), int64(1), object(6)\n",
      "memory usage: 6.9+ MB\n"
     ]
    }
   ],
   "source": [
    "df.info()"
   ]
  },
  {
   "cell_type": "code",
   "execution_count": 15,
   "metadata": {},
   "outputs": [],
   "source": [
    "df['delay'] = (df['clear_date']-df['due_in_date'])"
   ]
  },
  {
   "cell_type": "code",
   "execution_count": 16,
   "metadata": {},
   "outputs": [
    {
     "data": {
      "text/html": [
       "<div>\n",
       "<style scoped>\n",
       "    .dataframe tbody tr th:only-of-type {\n",
       "        vertical-align: middle;\n",
       "    }\n",
       "\n",
       "    .dataframe tbody tr th {\n",
       "        vertical-align: top;\n",
       "    }\n",
       "\n",
       "    .dataframe thead th {\n",
       "        text-align: right;\n",
       "    }\n",
       "</style>\n",
       "<table border=\"1\" class=\"dataframe\">\n",
       "  <thead>\n",
       "    <tr style=\"text-align: right;\">\n",
       "      <th></th>\n",
       "      <th>business_code</th>\n",
       "      <th>cust_number</th>\n",
       "      <th>name_customer</th>\n",
       "      <th>clear_date</th>\n",
       "      <th>buisness_year</th>\n",
       "      <th>doc_id</th>\n",
       "      <th>posting_date</th>\n",
       "      <th>document_create_date.1</th>\n",
       "      <th>due_in_date</th>\n",
       "      <th>invoice_currency</th>\n",
       "      <th>document type</th>\n",
       "      <th>posting_id</th>\n",
       "      <th>area_business</th>\n",
       "      <th>total_open_amount</th>\n",
       "      <th>baseline_create_date</th>\n",
       "      <th>cust_payment_terms</th>\n",
       "      <th>invoice_id</th>\n",
       "      <th>isOpen</th>\n",
       "      <th>delay</th>\n",
       "    </tr>\n",
       "  </thead>\n",
       "  <tbody>\n",
       "    <tr>\n",
       "      <th>0</th>\n",
       "      <td>U001</td>\n",
       "      <td>0200726979</td>\n",
       "      <td>BJ'S  in</td>\n",
       "      <td>2019-06-27</td>\n",
       "      <td>2019.0</td>\n",
       "      <td>1.929465e+09</td>\n",
       "      <td>2019-06-12</td>\n",
       "      <td>2019-06-12</td>\n",
       "      <td>2019-06-27</td>\n",
       "      <td>USD</td>\n",
       "      <td>RV</td>\n",
       "      <td>1.0</td>\n",
       "      <td>NaN</td>\n",
       "      <td>9222.81</td>\n",
       "      <td>2019-06-12</td>\n",
       "      <td>NAA8</td>\n",
       "      <td>1.929465e+09</td>\n",
       "      <td>0</td>\n",
       "      <td>0 days</td>\n",
       "    </tr>\n",
       "    <tr>\n",
       "      <th>1</th>\n",
       "      <td>U001</td>\n",
       "      <td>0200799367</td>\n",
       "      <td>MCL associates</td>\n",
       "      <td>2019-10-30</td>\n",
       "      <td>2019.0</td>\n",
       "      <td>1.930008e+09</td>\n",
       "      <td>2019-10-13</td>\n",
       "      <td>2019-10-13</td>\n",
       "      <td>2019-10-28</td>\n",
       "      <td>USD</td>\n",
       "      <td>RV</td>\n",
       "      <td>1.0</td>\n",
       "      <td>NaN</td>\n",
       "      <td>1531.86</td>\n",
       "      <td>2019-10-13</td>\n",
       "      <td>NAA8</td>\n",
       "      <td>1.930008e+09</td>\n",
       "      <td>0</td>\n",
       "      <td>2 days</td>\n",
       "    </tr>\n",
       "    <tr>\n",
       "      <th>2</th>\n",
       "      <td>U001</td>\n",
       "      <td>0200418007</td>\n",
       "      <td>AM trust</td>\n",
       "      <td>2019-02-28</td>\n",
       "      <td>2019.0</td>\n",
       "      <td>1.928765e+09</td>\n",
       "      <td>2019-02-12</td>\n",
       "      <td>2019-02-12</td>\n",
       "      <td>2019-02-27</td>\n",
       "      <td>USD</td>\n",
       "      <td>RV</td>\n",
       "      <td>1.0</td>\n",
       "      <td>NaN</td>\n",
       "      <td>34818.39</td>\n",
       "      <td>2019-02-12</td>\n",
       "      <td>NAA8</td>\n",
       "      <td>1.928765e+09</td>\n",
       "      <td>0</td>\n",
       "      <td>1 days</td>\n",
       "    </tr>\n",
       "    <tr>\n",
       "      <th>3</th>\n",
       "      <td>U001</td>\n",
       "      <td>200772670</td>\n",
       "      <td>ASSOCIAT</td>\n",
       "      <td>2019-07-09</td>\n",
       "      <td>2019.0</td>\n",
       "      <td>1.929339e+09</td>\n",
       "      <td>2019-05-22</td>\n",
       "      <td>2019-05-22</td>\n",
       "      <td>2019-06-06</td>\n",
       "      <td>USD</td>\n",
       "      <td>RV</td>\n",
       "      <td>1.0</td>\n",
       "      <td>NaN</td>\n",
       "      <td>273.69</td>\n",
       "      <td>2019-05-22</td>\n",
       "      <td>NAU5</td>\n",
       "      <td>1.929339e+09</td>\n",
       "      <td>0</td>\n",
       "      <td>33 days</td>\n",
       "    </tr>\n",
       "    <tr>\n",
       "      <th>4</th>\n",
       "      <td>U001</td>\n",
       "      <td>200769623</td>\n",
       "      <td>WAL-MAR llc</td>\n",
       "      <td>2020-01-13</td>\n",
       "      <td>2020.0</td>\n",
       "      <td>1.930332e+09</td>\n",
       "      <td>2020-01-01</td>\n",
       "      <td>2020-01-01</td>\n",
       "      <td>2020-01-16</td>\n",
       "      <td>USD</td>\n",
       "      <td>RV</td>\n",
       "      <td>1.0</td>\n",
       "      <td>NaN</td>\n",
       "      <td>16698.87</td>\n",
       "      <td>2020-01-01</td>\n",
       "      <td>NAH4</td>\n",
       "      <td>1.930332e+09</td>\n",
       "      <td>0</td>\n",
       "      <td>-3 days</td>\n",
       "    </tr>\n",
       "  </tbody>\n",
       "</table>\n",
       "</div>"
      ],
      "text/plain": [
       "  business_code cust_number   name_customer clear_date  buisness_year  \\\n",
       "0          U001  0200726979        BJ'S  in 2019-06-27         2019.0   \n",
       "1          U001  0200799367  MCL associates 2019-10-30         2019.0   \n",
       "2          U001  0200418007        AM trust 2019-02-28         2019.0   \n",
       "3          U001   200772670       ASSOCIAT  2019-07-09         2019.0   \n",
       "4          U001   200769623     WAL-MAR llc 2020-01-13         2020.0   \n",
       "\n",
       "         doc_id posting_date document_create_date.1 due_in_date  \\\n",
       "0  1.929465e+09   2019-06-12             2019-06-12  2019-06-27   \n",
       "1  1.930008e+09   2019-10-13             2019-10-13  2019-10-28   \n",
       "2  1.928765e+09   2019-02-12             2019-02-12  2019-02-27   \n",
       "3  1.929339e+09   2019-05-22             2019-05-22  2019-06-06   \n",
       "4  1.930332e+09   2020-01-01             2020-01-01  2020-01-16   \n",
       "\n",
       "  invoice_currency document type  posting_id  area_business  \\\n",
       "0              USD            RV         1.0            NaN   \n",
       "1              USD            RV         1.0            NaN   \n",
       "2              USD            RV         1.0            NaN   \n",
       "3              USD            RV         1.0            NaN   \n",
       "4              USD            RV         1.0            NaN   \n",
       "\n",
       "   total_open_amount baseline_create_date cust_payment_terms    invoice_id  \\\n",
       "0            9222.81           2019-06-12               NAA8  1.929465e+09   \n",
       "1            1531.86           2019-10-13               NAA8  1.930008e+09   \n",
       "2           34818.39           2019-02-12               NAA8  1.928765e+09   \n",
       "3             273.69           2019-05-22               NAU5  1.929339e+09   \n",
       "4           16698.87           2020-01-01               NAH4  1.930332e+09   \n",
       "\n",
       "   isOpen   delay  \n",
       "0       0  0 days  \n",
       "1       0  2 days  \n",
       "2       0  1 days  \n",
       "3       0 33 days  \n",
       "4       0 -3 days  "
      ]
     },
     "execution_count": 16,
     "metadata": {},
     "output_type": "execute_result"
    }
   ],
   "source": [
    "df.head()"
   ]
  },
  {
   "cell_type": "code",
   "execution_count": 17,
   "metadata": {},
   "outputs": [],
   "source": [
    "df['delay'] = df['delay'].dt.days"
   ]
  },
  {
   "cell_type": "code",
   "execution_count": 18,
   "metadata": {},
   "outputs": [
    {
     "data": {
      "text/html": [
       "<div>\n",
       "<style scoped>\n",
       "    .dataframe tbody tr th:only-of-type {\n",
       "        vertical-align: middle;\n",
       "    }\n",
       "\n",
       "    .dataframe tbody tr th {\n",
       "        vertical-align: top;\n",
       "    }\n",
       "\n",
       "    .dataframe thead th {\n",
       "        text-align: right;\n",
       "    }\n",
       "</style>\n",
       "<table border=\"1\" class=\"dataframe\">\n",
       "  <thead>\n",
       "    <tr style=\"text-align: right;\">\n",
       "      <th></th>\n",
       "      <th>business_code</th>\n",
       "      <th>cust_number</th>\n",
       "      <th>name_customer</th>\n",
       "      <th>clear_date</th>\n",
       "      <th>buisness_year</th>\n",
       "      <th>doc_id</th>\n",
       "      <th>posting_date</th>\n",
       "      <th>document_create_date.1</th>\n",
       "      <th>due_in_date</th>\n",
       "      <th>invoice_currency</th>\n",
       "      <th>document type</th>\n",
       "      <th>posting_id</th>\n",
       "      <th>area_business</th>\n",
       "      <th>total_open_amount</th>\n",
       "      <th>baseline_create_date</th>\n",
       "      <th>cust_payment_terms</th>\n",
       "      <th>invoice_id</th>\n",
       "      <th>isOpen</th>\n",
       "      <th>delay</th>\n",
       "    </tr>\n",
       "  </thead>\n",
       "  <tbody>\n",
       "    <tr>\n",
       "      <th>0</th>\n",
       "      <td>U001</td>\n",
       "      <td>0200726979</td>\n",
       "      <td>BJ'S  in</td>\n",
       "      <td>2019-06-27</td>\n",
       "      <td>2019.0</td>\n",
       "      <td>1.929465e+09</td>\n",
       "      <td>2019-06-12</td>\n",
       "      <td>2019-06-12</td>\n",
       "      <td>2019-06-27</td>\n",
       "      <td>USD</td>\n",
       "      <td>RV</td>\n",
       "      <td>1.0</td>\n",
       "      <td>NaN</td>\n",
       "      <td>9222.81</td>\n",
       "      <td>2019-06-12</td>\n",
       "      <td>NAA8</td>\n",
       "      <td>1.929465e+09</td>\n",
       "      <td>0</td>\n",
       "      <td>0.0</td>\n",
       "    </tr>\n",
       "    <tr>\n",
       "      <th>1</th>\n",
       "      <td>U001</td>\n",
       "      <td>0200799367</td>\n",
       "      <td>MCL associates</td>\n",
       "      <td>2019-10-30</td>\n",
       "      <td>2019.0</td>\n",
       "      <td>1.930008e+09</td>\n",
       "      <td>2019-10-13</td>\n",
       "      <td>2019-10-13</td>\n",
       "      <td>2019-10-28</td>\n",
       "      <td>USD</td>\n",
       "      <td>RV</td>\n",
       "      <td>1.0</td>\n",
       "      <td>NaN</td>\n",
       "      <td>1531.86</td>\n",
       "      <td>2019-10-13</td>\n",
       "      <td>NAA8</td>\n",
       "      <td>1.930008e+09</td>\n",
       "      <td>0</td>\n",
       "      <td>2.0</td>\n",
       "    </tr>\n",
       "    <tr>\n",
       "      <th>2</th>\n",
       "      <td>U001</td>\n",
       "      <td>0200418007</td>\n",
       "      <td>AM trust</td>\n",
       "      <td>2019-02-28</td>\n",
       "      <td>2019.0</td>\n",
       "      <td>1.928765e+09</td>\n",
       "      <td>2019-02-12</td>\n",
       "      <td>2019-02-12</td>\n",
       "      <td>2019-02-27</td>\n",
       "      <td>USD</td>\n",
       "      <td>RV</td>\n",
       "      <td>1.0</td>\n",
       "      <td>NaN</td>\n",
       "      <td>34818.39</td>\n",
       "      <td>2019-02-12</td>\n",
       "      <td>NAA8</td>\n",
       "      <td>1.928765e+09</td>\n",
       "      <td>0</td>\n",
       "      <td>1.0</td>\n",
       "    </tr>\n",
       "    <tr>\n",
       "      <th>3</th>\n",
       "      <td>U001</td>\n",
       "      <td>200772670</td>\n",
       "      <td>ASSOCIAT</td>\n",
       "      <td>2019-07-09</td>\n",
       "      <td>2019.0</td>\n",
       "      <td>1.929339e+09</td>\n",
       "      <td>2019-05-22</td>\n",
       "      <td>2019-05-22</td>\n",
       "      <td>2019-06-06</td>\n",
       "      <td>USD</td>\n",
       "      <td>RV</td>\n",
       "      <td>1.0</td>\n",
       "      <td>NaN</td>\n",
       "      <td>273.69</td>\n",
       "      <td>2019-05-22</td>\n",
       "      <td>NAU5</td>\n",
       "      <td>1.929339e+09</td>\n",
       "      <td>0</td>\n",
       "      <td>33.0</td>\n",
       "    </tr>\n",
       "    <tr>\n",
       "      <th>4</th>\n",
       "      <td>U001</td>\n",
       "      <td>200769623</td>\n",
       "      <td>WAL-MAR llc</td>\n",
       "      <td>2020-01-13</td>\n",
       "      <td>2020.0</td>\n",
       "      <td>1.930332e+09</td>\n",
       "      <td>2020-01-01</td>\n",
       "      <td>2020-01-01</td>\n",
       "      <td>2020-01-16</td>\n",
       "      <td>USD</td>\n",
       "      <td>RV</td>\n",
       "      <td>1.0</td>\n",
       "      <td>NaN</td>\n",
       "      <td>16698.87</td>\n",
       "      <td>2020-01-01</td>\n",
       "      <td>NAH4</td>\n",
       "      <td>1.930332e+09</td>\n",
       "      <td>0</td>\n",
       "      <td>-3.0</td>\n",
       "    </tr>\n",
       "  </tbody>\n",
       "</table>\n",
       "</div>"
      ],
      "text/plain": [
       "  business_code cust_number   name_customer clear_date  buisness_year  \\\n",
       "0          U001  0200726979        BJ'S  in 2019-06-27         2019.0   \n",
       "1          U001  0200799367  MCL associates 2019-10-30         2019.0   \n",
       "2          U001  0200418007        AM trust 2019-02-28         2019.0   \n",
       "3          U001   200772670       ASSOCIAT  2019-07-09         2019.0   \n",
       "4          U001   200769623     WAL-MAR llc 2020-01-13         2020.0   \n",
       "\n",
       "         doc_id posting_date document_create_date.1 due_in_date  \\\n",
       "0  1.929465e+09   2019-06-12             2019-06-12  2019-06-27   \n",
       "1  1.930008e+09   2019-10-13             2019-10-13  2019-10-28   \n",
       "2  1.928765e+09   2019-02-12             2019-02-12  2019-02-27   \n",
       "3  1.929339e+09   2019-05-22             2019-05-22  2019-06-06   \n",
       "4  1.930332e+09   2020-01-01             2020-01-01  2020-01-16   \n",
       "\n",
       "  invoice_currency document type  posting_id  area_business  \\\n",
       "0              USD            RV         1.0            NaN   \n",
       "1              USD            RV         1.0            NaN   \n",
       "2              USD            RV         1.0            NaN   \n",
       "3              USD            RV         1.0            NaN   \n",
       "4              USD            RV         1.0            NaN   \n",
       "\n",
       "   total_open_amount baseline_create_date cust_payment_terms    invoice_id  \\\n",
       "0            9222.81           2019-06-12               NAA8  1.929465e+09   \n",
       "1            1531.86           2019-10-13               NAA8  1.930008e+09   \n",
       "2           34818.39           2019-02-12               NAA8  1.928765e+09   \n",
       "3             273.69           2019-05-22               NAU5  1.929339e+09   \n",
       "4           16698.87           2020-01-01               NAH4  1.930332e+09   \n",
       "\n",
       "   isOpen  delay  \n",
       "0       0    0.0  \n",
       "1       0    2.0  \n",
       "2       0    1.0  \n",
       "3       0   33.0  \n",
       "4       0   -3.0  "
      ]
     },
     "execution_count": 18,
     "metadata": {},
     "output_type": "execute_result"
    }
   ],
   "source": [
    "df.head()"
   ]
  },
  {
   "cell_type": "code",
   "execution_count": 19,
   "metadata": {},
   "outputs": [
    {
     "data": {
      "text/plain": [
       "count    45908.000000\n",
       "mean         0.847608\n",
       "std         10.874203\n",
       "min        -83.000000\n",
       "25%         -3.000000\n",
       "50%          0.000000\n",
       "75%          2.000000\n",
       "max        268.000000\n",
       "Name: delay, dtype: float64"
      ]
     },
     "execution_count": 19,
     "metadata": {},
     "output_type": "execute_result"
    }
   ],
   "source": [
    "df['delay'].describe()"
   ]
  },
  {
   "cell_type": "code",
   "execution_count": 20,
   "metadata": {},
   "outputs": [],
   "source": [
    "df.rename(columns={'buisness_year':'business_year'},inplace=True)"
   ]
  },
  {
   "cell_type": "code",
   "execution_count": 21,
   "metadata": {},
   "outputs": [
    {
     "name": "stdout",
     "output_type": "stream",
     "text": [
      "<class 'pandas.core.frame.DataFrame'>\n",
      "RangeIndex: 50000 entries, 0 to 49999\n",
      "Data columns (total 19 columns):\n",
      " #   Column                  Non-Null Count  Dtype         \n",
      "---  ------                  --------------  -----         \n",
      " 0   business_code           50000 non-null  object        \n",
      " 1   cust_number             50000 non-null  object        \n",
      " 2   name_customer           50000 non-null  object        \n",
      " 3   clear_date              45908 non-null  datetime64[ns]\n",
      " 4   business_year           50000 non-null  float64       \n",
      " 5   doc_id                  50000 non-null  float64       \n",
      " 6   posting_date            50000 non-null  datetime64[ns]\n",
      " 7   document_create_date.1  50000 non-null  datetime64[ns]\n",
      " 8   due_in_date             50000 non-null  datetime64[ns]\n",
      " 9   invoice_currency        50000 non-null  object        \n",
      " 10  document type           50000 non-null  object        \n",
      " 11  posting_id              50000 non-null  float64       \n",
      " 12  area_business           0 non-null      float64       \n",
      " 13  total_open_amount       50000 non-null  float64       \n",
      " 14  baseline_create_date    50000 non-null  datetime64[ns]\n",
      " 15  cust_payment_terms      50000 non-null  object        \n",
      " 16  invoice_id              50000 non-null  float64       \n",
      " 17  isOpen                  50000 non-null  int64         \n",
      " 18  delay                   45908 non-null  float64       \n",
      "dtypes: datetime64[ns](5), float64(7), int64(1), object(6)\n",
      "memory usage: 7.2+ MB\n"
     ]
    }
   ],
   "source": [
    "df.info()"
   ]
  },
  {
   "cell_type": "code",
   "execution_count": 22,
   "metadata": {},
   "outputs": [
    {
     "data": {
      "text/html": [
       "<div>\n",
       "<style scoped>\n",
       "    .dataframe tbody tr th:only-of-type {\n",
       "        vertical-align: middle;\n",
       "    }\n",
       "\n",
       "    .dataframe tbody tr th {\n",
       "        vertical-align: top;\n",
       "    }\n",
       "\n",
       "    .dataframe thead th {\n",
       "        text-align: right;\n",
       "    }\n",
       "</style>\n",
       "<table border=\"1\" class=\"dataframe\">\n",
       "  <thead>\n",
       "    <tr style=\"text-align: right;\">\n",
       "      <th></th>\n",
       "      <th>business_code</th>\n",
       "      <th>cust_number</th>\n",
       "      <th>name_customer</th>\n",
       "      <th>clear_date</th>\n",
       "      <th>business_year</th>\n",
       "      <th>doc_id</th>\n",
       "      <th>posting_date</th>\n",
       "      <th>document_create_date.1</th>\n",
       "      <th>due_in_date</th>\n",
       "      <th>invoice_currency</th>\n",
       "      <th>document type</th>\n",
       "      <th>area_business</th>\n",
       "      <th>total_open_amount</th>\n",
       "      <th>baseline_create_date</th>\n",
       "      <th>cust_payment_terms</th>\n",
       "      <th>invoice_id</th>\n",
       "      <th>isOpen</th>\n",
       "      <th>delay</th>\n",
       "    </tr>\n",
       "    <tr>\n",
       "      <th>posting_id</th>\n",
       "      <th></th>\n",
       "      <th></th>\n",
       "      <th></th>\n",
       "      <th></th>\n",
       "      <th></th>\n",
       "      <th></th>\n",
       "      <th></th>\n",
       "      <th></th>\n",
       "      <th></th>\n",
       "      <th></th>\n",
       "      <th></th>\n",
       "      <th></th>\n",
       "      <th></th>\n",
       "      <th></th>\n",
       "      <th></th>\n",
       "      <th></th>\n",
       "      <th></th>\n",
       "      <th></th>\n",
       "    </tr>\n",
       "  </thead>\n",
       "  <tbody>\n",
       "    <tr>\n",
       "      <th>1.0</th>\n",
       "      <td>50000</td>\n",
       "      <td>50000</td>\n",
       "      <td>50000</td>\n",
       "      <td>45908</td>\n",
       "      <td>50000</td>\n",
       "      <td>50000</td>\n",
       "      <td>50000</td>\n",
       "      <td>50000</td>\n",
       "      <td>50000</td>\n",
       "      <td>50000</td>\n",
       "      <td>50000</td>\n",
       "      <td>0</td>\n",
       "      <td>50000</td>\n",
       "      <td>50000</td>\n",
       "      <td>50000</td>\n",
       "      <td>50000</td>\n",
       "      <td>50000</td>\n",
       "      <td>45908</td>\n",
       "    </tr>\n",
       "  </tbody>\n",
       "</table>\n",
       "</div>"
      ],
      "text/plain": [
       "            business_code  cust_number  name_customer  clear_date  \\\n",
       "posting_id                                                          \n",
       "1.0                 50000        50000          50000       45908   \n",
       "\n",
       "            business_year  doc_id  posting_date  document_create_date.1  \\\n",
       "posting_id                                                                \n",
       "1.0                 50000   50000         50000                   50000   \n",
       "\n",
       "            due_in_date  invoice_currency  document type  area_business  \\\n",
       "posting_id                                                                \n",
       "1.0               50000             50000          50000              0   \n",
       "\n",
       "            total_open_amount  baseline_create_date  cust_payment_terms  \\\n",
       "posting_id                                                                \n",
       "1.0                     50000                 50000               50000   \n",
       "\n",
       "            invoice_id  isOpen  delay  \n",
       "posting_id                             \n",
       "1.0              50000   50000  45908  "
      ]
     },
     "execution_count": 22,
     "metadata": {},
     "output_type": "execute_result"
    }
   ],
   "source": [
    "df.groupby('posting_id').count()"
   ]
  },
  {
   "cell_type": "code",
   "execution_count": 23,
   "metadata": {},
   "outputs": [
    {
     "data": {
      "text/html": [
       "<div>\n",
       "<style scoped>\n",
       "    .dataframe tbody tr th:only-of-type {\n",
       "        vertical-align: middle;\n",
       "    }\n",
       "\n",
       "    .dataframe tbody tr th {\n",
       "        vertical-align: top;\n",
       "    }\n",
       "\n",
       "    .dataframe thead th {\n",
       "        text-align: right;\n",
       "    }\n",
       "</style>\n",
       "<table border=\"1\" class=\"dataframe\">\n",
       "  <thead>\n",
       "    <tr style=\"text-align: right;\">\n",
       "      <th></th>\n",
       "      <th>business_code</th>\n",
       "      <th>cust_number</th>\n",
       "      <th>name_customer</th>\n",
       "      <th>clear_date</th>\n",
       "      <th>business_year</th>\n",
       "      <th>doc_id</th>\n",
       "      <th>posting_date</th>\n",
       "      <th>document_create_date.1</th>\n",
       "      <th>due_in_date</th>\n",
       "      <th>invoice_currency</th>\n",
       "      <th>posting_id</th>\n",
       "      <th>area_business</th>\n",
       "      <th>total_open_amount</th>\n",
       "      <th>baseline_create_date</th>\n",
       "      <th>cust_payment_terms</th>\n",
       "      <th>invoice_id</th>\n",
       "      <th>isOpen</th>\n",
       "      <th>delay</th>\n",
       "    </tr>\n",
       "    <tr>\n",
       "      <th>document type</th>\n",
       "      <th></th>\n",
       "      <th></th>\n",
       "      <th></th>\n",
       "      <th></th>\n",
       "      <th></th>\n",
       "      <th></th>\n",
       "      <th></th>\n",
       "      <th></th>\n",
       "      <th></th>\n",
       "      <th></th>\n",
       "      <th></th>\n",
       "      <th></th>\n",
       "      <th></th>\n",
       "      <th></th>\n",
       "      <th></th>\n",
       "      <th></th>\n",
       "      <th></th>\n",
       "      <th></th>\n",
       "    </tr>\n",
       "  </thead>\n",
       "  <tbody>\n",
       "    <tr>\n",
       "      <th>RV</th>\n",
       "      <td>50000</td>\n",
       "      <td>50000</td>\n",
       "      <td>50000</td>\n",
       "      <td>45908</td>\n",
       "      <td>50000</td>\n",
       "      <td>50000</td>\n",
       "      <td>50000</td>\n",
       "      <td>50000</td>\n",
       "      <td>50000</td>\n",
       "      <td>50000</td>\n",
       "      <td>50000</td>\n",
       "      <td>0</td>\n",
       "      <td>50000</td>\n",
       "      <td>50000</td>\n",
       "      <td>50000</td>\n",
       "      <td>50000</td>\n",
       "      <td>50000</td>\n",
       "      <td>45908</td>\n",
       "    </tr>\n",
       "  </tbody>\n",
       "</table>\n",
       "</div>"
      ],
      "text/plain": [
       "               business_code  cust_number  name_customer  clear_date  \\\n",
       "document type                                                          \n",
       "RV                     50000        50000          50000       45908   \n",
       "\n",
       "               business_year  doc_id  posting_date  document_create_date.1  \\\n",
       "document type                                                                \n",
       "RV                     50000   50000         50000                   50000   \n",
       "\n",
       "               due_in_date  invoice_currency  posting_id  area_business  \\\n",
       "document type                                                             \n",
       "RV                   50000             50000       50000              0   \n",
       "\n",
       "               total_open_amount  baseline_create_date  cust_payment_terms  \\\n",
       "document type                                                                \n",
       "RV                         50000                 50000               50000   \n",
       "\n",
       "               invoice_id  isOpen  delay  \n",
       "document type                             \n",
       "RV                  50000   50000  45908  "
      ]
     },
     "execution_count": 23,
     "metadata": {},
     "output_type": "execute_result"
    }
   ],
   "source": [
    "df.groupby('document type').count()"
   ]
  },
  {
   "cell_type": "code",
   "execution_count": 24,
   "metadata": {},
   "outputs": [
    {
     "name": "stdout",
     "output_type": "stream",
     "text": [
      "['document type', 'posting_id']\n"
     ]
    },
    {
     "data": {
      "text/plain": [
       "Index(['business_code', 'cust_number', 'name_customer', 'clear_date',\n",
       "       'business_year', 'doc_id', 'posting_date', 'document_create_date.1',\n",
       "       'due_in_date', 'invoice_currency', 'area_business', 'total_open_amount',\n",
       "       'baseline_create_date', 'cust_payment_terms', 'invoice_id', 'isOpen',\n",
       "       'delay'],\n",
       "      dtype='object')"
      ]
     },
     "execution_count": 24,
     "metadata": {},
     "output_type": "execute_result"
    }
   ],
   "source": [
    "#Removing Constant Columns ->> Columns which have the same value in the enitre dataset\n",
    "unique_cols =  [x for x in df.columns if df[x].nunique()==1] \n",
    "print(unique_cols)\n",
    "df.drop(unique_cols,axis=1,inplace=True)\n",
    "df.columns"
   ]
  },
  {
   "cell_type": "code",
   "execution_count": 25,
   "metadata": {},
   "outputs": [
    {
     "data": {
      "text/plain": [
       "50000"
      ]
     },
     "execution_count": 25,
     "metadata": {},
     "output_type": "execute_result"
    }
   ],
   "source": [
    "#For Removing Null Column\n",
    "df['area_business'].isna().count()"
   ]
  },
  {
   "cell_type": "code",
   "execution_count": 21,
   "metadata": {},
   "outputs": [],
   "source": [
    "df.drop('area_business',axis = 1, inplace = True)"
   ]
  },
  {
   "cell_type": "code",
   "execution_count": 22,
   "metadata": {},
   "outputs": [
    {
     "name": "stdout",
     "output_type": "stream",
     "text": [
      "0.0\n"
     ]
    }
   ],
   "source": [
    "#Checking for same row values in ('doc_id' and 'invoice_id')\n",
    "print((df['doc_id'] - df['invoice_id']).sum())"
   ]
  },
  {
   "cell_type": "code",
   "execution_count": 23,
   "metadata": {},
   "outputs": [
    {
     "name": "stdout",
     "output_type": "stream",
     "text": [
      "0 days 00:00:00\n"
     ]
    }
   ],
   "source": [
    "#Checking for same row values in ('posting_date' and 'doc_create_date')\n",
    "print((df['posting_date'] - df['document_create_date.1']).sum())"
   ]
  },
  {
   "cell_type": "code",
   "execution_count": 24,
   "metadata": {},
   "outputs": [],
   "source": [
    "df.drop('doc_id',axis = 1, inplace = True)\n",
    "df.drop('posting_date',axis = 1, inplace = True)"
   ]
  },
  {
   "cell_type": "code",
   "execution_count": 25,
   "metadata": {},
   "outputs": [
    {
     "data": {
      "text/html": [
       "<div>\n",
       "<style scoped>\n",
       "    .dataframe tbody tr th:only-of-type {\n",
       "        vertical-align: middle;\n",
       "    }\n",
       "\n",
       "    .dataframe tbody tr th {\n",
       "        vertical-align: top;\n",
       "    }\n",
       "\n",
       "    .dataframe thead th {\n",
       "        text-align: right;\n",
       "    }\n",
       "</style>\n",
       "<table border=\"1\" class=\"dataframe\">\n",
       "  <thead>\n",
       "    <tr style=\"text-align: right;\">\n",
       "      <th></th>\n",
       "      <th>business_code</th>\n",
       "      <th>cust_number</th>\n",
       "      <th>name_customer</th>\n",
       "      <th>clear_date</th>\n",
       "      <th>business_year</th>\n",
       "      <th>document_create_date.1</th>\n",
       "      <th>due_in_date</th>\n",
       "      <th>invoice_currency</th>\n",
       "      <th>total_open_amount</th>\n",
       "      <th>baseline_create_date</th>\n",
       "      <th>cust_payment_terms</th>\n",
       "      <th>invoice_id</th>\n",
       "      <th>isOpen</th>\n",
       "      <th>delay</th>\n",
       "    </tr>\n",
       "  </thead>\n",
       "  <tbody>\n",
       "    <tr>\n",
       "      <th>0</th>\n",
       "      <td>U001</td>\n",
       "      <td>0200726979</td>\n",
       "      <td>BJ'S  in</td>\n",
       "      <td>2019-06-27</td>\n",
       "      <td>2019.0</td>\n",
       "      <td>2019-06-12</td>\n",
       "      <td>2019-06-27</td>\n",
       "      <td>USD</td>\n",
       "      <td>9222.81</td>\n",
       "      <td>2019-06-12</td>\n",
       "      <td>NAA8</td>\n",
       "      <td>1.929465e+09</td>\n",
       "      <td>0</td>\n",
       "      <td>0.0</td>\n",
       "    </tr>\n",
       "    <tr>\n",
       "      <th>1</th>\n",
       "      <td>U001</td>\n",
       "      <td>0200799367</td>\n",
       "      <td>MCL associates</td>\n",
       "      <td>2019-10-30</td>\n",
       "      <td>2019.0</td>\n",
       "      <td>2019-10-13</td>\n",
       "      <td>2019-10-28</td>\n",
       "      <td>USD</td>\n",
       "      <td>1531.86</td>\n",
       "      <td>2019-10-13</td>\n",
       "      <td>NAA8</td>\n",
       "      <td>1.930008e+09</td>\n",
       "      <td>0</td>\n",
       "      <td>2.0</td>\n",
       "    </tr>\n",
       "    <tr>\n",
       "      <th>2</th>\n",
       "      <td>U001</td>\n",
       "      <td>0200418007</td>\n",
       "      <td>AM trust</td>\n",
       "      <td>2019-02-28</td>\n",
       "      <td>2019.0</td>\n",
       "      <td>2019-02-12</td>\n",
       "      <td>2019-02-27</td>\n",
       "      <td>USD</td>\n",
       "      <td>34818.39</td>\n",
       "      <td>2019-02-12</td>\n",
       "      <td>NAA8</td>\n",
       "      <td>1.928765e+09</td>\n",
       "      <td>0</td>\n",
       "      <td>1.0</td>\n",
       "    </tr>\n",
       "    <tr>\n",
       "      <th>3</th>\n",
       "      <td>U001</td>\n",
       "      <td>200772670</td>\n",
       "      <td>ASSOCIAT</td>\n",
       "      <td>2019-07-09</td>\n",
       "      <td>2019.0</td>\n",
       "      <td>2019-05-22</td>\n",
       "      <td>2019-06-06</td>\n",
       "      <td>USD</td>\n",
       "      <td>273.69</td>\n",
       "      <td>2019-05-22</td>\n",
       "      <td>NAU5</td>\n",
       "      <td>1.929339e+09</td>\n",
       "      <td>0</td>\n",
       "      <td>33.0</td>\n",
       "    </tr>\n",
       "    <tr>\n",
       "      <th>4</th>\n",
       "      <td>U001</td>\n",
       "      <td>200769623</td>\n",
       "      <td>WAL-MAR llc</td>\n",
       "      <td>2020-01-13</td>\n",
       "      <td>2020.0</td>\n",
       "      <td>2020-01-01</td>\n",
       "      <td>2020-01-16</td>\n",
       "      <td>USD</td>\n",
       "      <td>16698.87</td>\n",
       "      <td>2020-01-01</td>\n",
       "      <td>NAH4</td>\n",
       "      <td>1.930332e+09</td>\n",
       "      <td>0</td>\n",
       "      <td>-3.0</td>\n",
       "    </tr>\n",
       "  </tbody>\n",
       "</table>\n",
       "</div>"
      ],
      "text/plain": [
       "  business_code cust_number   name_customer clear_date  business_year  \\\n",
       "0          U001  0200726979        BJ'S  in 2019-06-27         2019.0   \n",
       "1          U001  0200799367  MCL associates 2019-10-30         2019.0   \n",
       "2          U001  0200418007        AM trust 2019-02-28         2019.0   \n",
       "3          U001   200772670       ASSOCIAT  2019-07-09         2019.0   \n",
       "4          U001   200769623     WAL-MAR llc 2020-01-13         2020.0   \n",
       "\n",
       "  document_create_date.1 due_in_date invoice_currency  total_open_amount  \\\n",
       "0             2019-06-12  2019-06-27              USD            9222.81   \n",
       "1             2019-10-13  2019-10-28              USD            1531.86   \n",
       "2             2019-02-12  2019-02-27              USD           34818.39   \n",
       "3             2019-05-22  2019-06-06              USD             273.69   \n",
       "4             2020-01-01  2020-01-16              USD           16698.87   \n",
       "\n",
       "  baseline_create_date cust_payment_terms    invoice_id  isOpen  delay  \n",
       "0           2019-06-12               NAA8  1.929465e+09       0    0.0  \n",
       "1           2019-10-13               NAA8  1.930008e+09       0    2.0  \n",
       "2           2019-02-12               NAA8  1.928765e+09       0    1.0  \n",
       "3           2019-05-22               NAU5  1.929339e+09       0   33.0  \n",
       "4           2020-01-01               NAH4  1.930332e+09       0   -3.0  "
      ]
     },
     "execution_count": 25,
     "metadata": {},
     "output_type": "execute_result"
    }
   ],
   "source": [
    "df.head()"
   ]
  },
  {
   "cell_type": "code",
   "execution_count": 26,
   "metadata": {},
   "outputs": [],
   "source": [
    "#splitting the dataset into train data and test data\n",
    "test=df.loc[df[\"clear_date\"].isnull()].reset_index(drop=True)\n",
    "train=df.loc[df[\"clear_date\"].notnull()].reset_index(drop=True)"
   ]
  },
  {
   "cell_type": "code",
   "execution_count": 27,
   "metadata": {},
   "outputs": [
    {
     "name": "stdout",
     "output_type": "stream",
     "text": [
      "(45908, 14)\n"
     ]
    }
   ],
   "source": [
    "print(train.shape)"
   ]
  },
  {
   "cell_type": "code",
   "execution_count": 28,
   "metadata": {},
   "outputs": [],
   "source": [
    "# Removing anomalies for train set\n",
    "train=train[((train['document_create_date.1']<=train['baseline_create_date']) & (train['baseline_create_date']<=train['due_in_date']))|((train['document_create_date.1']<=train['baseline_create_date']) & (train['baseline_create_date']<=train['clear_date']))]\n",
    "\n",
    "# Removing anomalies for test set\n",
    "test=test[((test['document_create_date.1']<=test['baseline_create_date']) & (test['baseline_create_date']<=test['due_in_date']))|(test['document_create_date.1']<=test['baseline_create_date'])]\n"
   ]
  },
  {
   "cell_type": "code",
   "execution_count": 29,
   "metadata": {},
   "outputs": [],
   "source": [
    "# Removing anomalies for test_final set\n",
    "test_final=test_final[((test_final['document_create_date.1']<=test_final['baseline_create_date']) & (test_final['baseline_create_date']<=test_final['due_in_date']))|(test_final['document_create_date.1']<=test_final['baseline_create_date'])]"
   ]
  },
  {
   "cell_type": "code",
   "execution_count": 30,
   "metadata": {},
   "outputs": [
    {
     "name": "stdout",
     "output_type": "stream",
     "text": [
      "(43870, 14)\n"
     ]
    }
   ],
   "source": [
    "print(train.shape)"
   ]
  },
  {
   "cell_type": "code",
   "execution_count": 31,
   "metadata": {},
   "outputs": [
    {
     "data": {
      "text/html": [
       "<div>\n",
       "<style scoped>\n",
       "    .dataframe tbody tr th:only-of-type {\n",
       "        vertical-align: middle;\n",
       "    }\n",
       "\n",
       "    .dataframe tbody tr th {\n",
       "        vertical-align: top;\n",
       "    }\n",
       "\n",
       "    .dataframe thead th {\n",
       "        text-align: right;\n",
       "    }\n",
       "</style>\n",
       "<table border=\"1\" class=\"dataframe\">\n",
       "  <thead>\n",
       "    <tr style=\"text-align: right;\">\n",
       "      <th></th>\n",
       "      <th>business_code</th>\n",
       "      <th>cust_number</th>\n",
       "      <th>name_customer</th>\n",
       "      <th>clear_date</th>\n",
       "      <th>business_year</th>\n",
       "      <th>document_create_date.1</th>\n",
       "      <th>due_in_date</th>\n",
       "      <th>invoice_currency</th>\n",
       "      <th>total_open_amount</th>\n",
       "      <th>baseline_create_date</th>\n",
       "      <th>cust_payment_terms</th>\n",
       "      <th>invoice_id</th>\n",
       "      <th>isOpen</th>\n",
       "      <th>delay</th>\n",
       "    </tr>\n",
       "  </thead>\n",
       "  <tbody>\n",
       "    <tr>\n",
       "      <th>0</th>\n",
       "      <td>U001</td>\n",
       "      <td>0200726979</td>\n",
       "      <td>BJ'S  in</td>\n",
       "      <td>2019-06-27</td>\n",
       "      <td>2019.0</td>\n",
       "      <td>2019-06-12</td>\n",
       "      <td>2019-06-27</td>\n",
       "      <td>USD</td>\n",
       "      <td>9222.81</td>\n",
       "      <td>2019-06-12</td>\n",
       "      <td>NAA8</td>\n",
       "      <td>1.929465e+09</td>\n",
       "      <td>0</td>\n",
       "      <td>0.0</td>\n",
       "    </tr>\n",
       "    <tr>\n",
       "      <th>1</th>\n",
       "      <td>U001</td>\n",
       "      <td>0200799367</td>\n",
       "      <td>MCL associates</td>\n",
       "      <td>2019-10-30</td>\n",
       "      <td>2019.0</td>\n",
       "      <td>2019-10-13</td>\n",
       "      <td>2019-10-28</td>\n",
       "      <td>USD</td>\n",
       "      <td>1531.86</td>\n",
       "      <td>2019-10-13</td>\n",
       "      <td>NAA8</td>\n",
       "      <td>1.930008e+09</td>\n",
       "      <td>0</td>\n",
       "      <td>2.0</td>\n",
       "    </tr>\n",
       "    <tr>\n",
       "      <th>2</th>\n",
       "      <td>U001</td>\n",
       "      <td>0200418007</td>\n",
       "      <td>AM trust</td>\n",
       "      <td>2019-02-28</td>\n",
       "      <td>2019.0</td>\n",
       "      <td>2019-02-12</td>\n",
       "      <td>2019-02-27</td>\n",
       "      <td>USD</td>\n",
       "      <td>34818.39</td>\n",
       "      <td>2019-02-12</td>\n",
       "      <td>NAA8</td>\n",
       "      <td>1.928765e+09</td>\n",
       "      <td>0</td>\n",
       "      <td>1.0</td>\n",
       "    </tr>\n",
       "    <tr>\n",
       "      <th>3</th>\n",
       "      <td>U001</td>\n",
       "      <td>200772670</td>\n",
       "      <td>ASSOCIAT</td>\n",
       "      <td>2019-07-09</td>\n",
       "      <td>2019.0</td>\n",
       "      <td>2019-05-22</td>\n",
       "      <td>2019-06-06</td>\n",
       "      <td>USD</td>\n",
       "      <td>273.69</td>\n",
       "      <td>2019-05-22</td>\n",
       "      <td>NAU5</td>\n",
       "      <td>1.929339e+09</td>\n",
       "      <td>0</td>\n",
       "      <td>33.0</td>\n",
       "    </tr>\n",
       "    <tr>\n",
       "      <th>4</th>\n",
       "      <td>U001</td>\n",
       "      <td>200769623</td>\n",
       "      <td>WAL-MAR llc</td>\n",
       "      <td>2020-01-13</td>\n",
       "      <td>2020.0</td>\n",
       "      <td>2020-01-01</td>\n",
       "      <td>2020-01-16</td>\n",
       "      <td>USD</td>\n",
       "      <td>16698.87</td>\n",
       "      <td>2020-01-01</td>\n",
       "      <td>NAH4</td>\n",
       "      <td>1.930332e+09</td>\n",
       "      <td>0</td>\n",
       "      <td>-3.0</td>\n",
       "    </tr>\n",
       "    <tr>\n",
       "      <th>...</th>\n",
       "      <td>...</td>\n",
       "      <td>...</td>\n",
       "      <td>...</td>\n",
       "      <td>...</td>\n",
       "      <td>...</td>\n",
       "      <td>...</td>\n",
       "      <td>...</td>\n",
       "      <td>...</td>\n",
       "      <td>...</td>\n",
       "      <td>...</td>\n",
       "      <td>...</td>\n",
       "      <td>...</td>\n",
       "      <td>...</td>\n",
       "      <td>...</td>\n",
       "    </tr>\n",
       "    <tr>\n",
       "      <th>45903</th>\n",
       "      <td>U001</td>\n",
       "      <td>0200726979</td>\n",
       "      <td>BJ'S  trust</td>\n",
       "      <td>2019-05-20</td>\n",
       "      <td>2019.0</td>\n",
       "      <td>2019-04-26</td>\n",
       "      <td>2019-05-11</td>\n",
       "      <td>USD</td>\n",
       "      <td>171.93</td>\n",
       "      <td>2019-04-26</td>\n",
       "      <td>NAA8</td>\n",
       "      <td>1.929206e+09</td>\n",
       "      <td>0</td>\n",
       "      <td>9.0</td>\n",
       "    </tr>\n",
       "    <tr>\n",
       "      <th>45904</th>\n",
       "      <td>U001</td>\n",
       "      <td>0200707822</td>\n",
       "      <td>PUBLI in</td>\n",
       "      <td>2019-07-29</td>\n",
       "      <td>2019.0</td>\n",
       "      <td>2019-07-12</td>\n",
       "      <td>2019-07-27</td>\n",
       "      <td>USD</td>\n",
       "      <td>139581.28</td>\n",
       "      <td>2019-07-12</td>\n",
       "      <td>NAA8</td>\n",
       "      <td>1.929608e+09</td>\n",
       "      <td>0</td>\n",
       "      <td>2.0</td>\n",
       "    </tr>\n",
       "    <tr>\n",
       "      <th>45905</th>\n",
       "      <td>U001</td>\n",
       "      <td>0200782001</td>\n",
       "      <td>GORDO corporation</td>\n",
       "      <td>2019-04-16</td>\n",
       "      <td>2019.0</td>\n",
       "      <td>2019-04-01</td>\n",
       "      <td>2019-04-16</td>\n",
       "      <td>USD</td>\n",
       "      <td>39407.52</td>\n",
       "      <td>2019-04-01</td>\n",
       "      <td>NAA8</td>\n",
       "      <td>1.929062e+09</td>\n",
       "      <td>0</td>\n",
       "      <td>0.0</td>\n",
       "    </tr>\n",
       "    <tr>\n",
       "      <th>45906</th>\n",
       "      <td>U001</td>\n",
       "      <td>0200782669</td>\n",
       "      <td>SYGMA associates</td>\n",
       "      <td>2019-12-23</td>\n",
       "      <td>2019.0</td>\n",
       "      <td>2019-12-05</td>\n",
       "      <td>2019-12-20</td>\n",
       "      <td>USD</td>\n",
       "      <td>28095.37</td>\n",
       "      <td>2019-12-05</td>\n",
       "      <td>NAA8</td>\n",
       "      <td>1.930212e+09</td>\n",
       "      <td>0</td>\n",
       "      <td>3.0</td>\n",
       "    </tr>\n",
       "    <tr>\n",
       "      <th>45907</th>\n",
       "      <td>CA02</td>\n",
       "      <td>0140106408</td>\n",
       "      <td>WAL-M trust</td>\n",
       "      <td>2020-03-16</td>\n",
       "      <td>2020.0</td>\n",
       "      <td>2020-02-25</td>\n",
       "      <td>2020-03-07</td>\n",
       "      <td>CAD</td>\n",
       "      <td>3449.68</td>\n",
       "      <td>2020-02-26</td>\n",
       "      <td>CA10</td>\n",
       "      <td>2.960616e+09</td>\n",
       "      <td>0</td>\n",
       "      <td>9.0</td>\n",
       "    </tr>\n",
       "  </tbody>\n",
       "</table>\n",
       "<p>43870 rows × 14 columns</p>\n",
       "</div>"
      ],
      "text/plain": [
       "      business_code cust_number      name_customer clear_date  business_year  \\\n",
       "0              U001  0200726979           BJ'S  in 2019-06-27         2019.0   \n",
       "1              U001  0200799367     MCL associates 2019-10-30         2019.0   \n",
       "2              U001  0200418007           AM trust 2019-02-28         2019.0   \n",
       "3              U001   200772670          ASSOCIAT  2019-07-09         2019.0   \n",
       "4              U001   200769623        WAL-MAR llc 2020-01-13         2020.0   \n",
       "...             ...         ...                ...        ...            ...   \n",
       "45903          U001  0200726979        BJ'S  trust 2019-05-20         2019.0   \n",
       "45904          U001  0200707822           PUBLI in 2019-07-29         2019.0   \n",
       "45905          U001  0200782001  GORDO corporation 2019-04-16         2019.0   \n",
       "45906          U001  0200782669   SYGMA associates 2019-12-23         2019.0   \n",
       "45907          CA02  0140106408        WAL-M trust 2020-03-16         2020.0   \n",
       "\n",
       "      document_create_date.1 due_in_date invoice_currency  total_open_amount  \\\n",
       "0                 2019-06-12  2019-06-27              USD            9222.81   \n",
       "1                 2019-10-13  2019-10-28              USD            1531.86   \n",
       "2                 2019-02-12  2019-02-27              USD           34818.39   \n",
       "3                 2019-05-22  2019-06-06              USD             273.69   \n",
       "4                 2020-01-01  2020-01-16              USD           16698.87   \n",
       "...                      ...         ...              ...                ...   \n",
       "45903             2019-04-26  2019-05-11              USD             171.93   \n",
       "45904             2019-07-12  2019-07-27              USD          139581.28   \n",
       "45905             2019-04-01  2019-04-16              USD           39407.52   \n",
       "45906             2019-12-05  2019-12-20              USD           28095.37   \n",
       "45907             2020-02-25  2020-03-07              CAD            3449.68   \n",
       "\n",
       "      baseline_create_date cust_payment_terms    invoice_id  isOpen  delay  \n",
       "0               2019-06-12               NAA8  1.929465e+09       0    0.0  \n",
       "1               2019-10-13               NAA8  1.930008e+09       0    2.0  \n",
       "2               2019-02-12               NAA8  1.928765e+09       0    1.0  \n",
       "3               2019-05-22               NAU5  1.929339e+09       0   33.0  \n",
       "4               2020-01-01               NAH4  1.930332e+09       0   -3.0  \n",
       "...                    ...                ...           ...     ...    ...  \n",
       "45903           2019-04-26               NAA8  1.929206e+09       0    9.0  \n",
       "45904           2019-07-12               NAA8  1.929608e+09       0    2.0  \n",
       "45905           2019-04-01               NAA8  1.929062e+09       0    0.0  \n",
       "45906           2019-12-05               NAA8  1.930212e+09       0    3.0  \n",
       "45907           2020-02-26               CA10  2.960616e+09       0    9.0  \n",
       "\n",
       "[43870 rows x 14 columns]"
      ]
     },
     "execution_count": 31,
     "metadata": {},
     "output_type": "execute_result"
    }
   ],
   "source": [
    "train"
   ]
  },
  {
   "cell_type": "code",
   "execution_count": 32,
   "metadata": {},
   "outputs": [
    {
     "data": {
      "text/plain": [
       "business_code             0\n",
       "cust_number               0\n",
       "name_customer             0\n",
       "clear_date                0\n",
       "business_year             0\n",
       "document_create_date.1    0\n",
       "due_in_date               0\n",
       "invoice_currency          0\n",
       "total_open_amount         0\n",
       "baseline_create_date      0\n",
       "cust_payment_terms        0\n",
       "invoice_id                0\n",
       "isOpen                    0\n",
       "delay                     0\n",
       "dtype: int64"
      ]
     },
     "execution_count": 32,
     "metadata": {},
     "output_type": "execute_result"
    }
   ],
   "source": [
    "train.isnull().sum()\n",
    "#No need to for null imputation"
   ]
  },
  {
   "cell_type": "code",
   "execution_count": 33,
   "metadata": {},
   "outputs": [],
   "source": [
    "#Removing Constant Columns ->> Columns which have the same value in the enitre dataset\n",
    "train.drop(['isOpen'], axis=1, inplace=True)\n",
    "test.drop(['isOpen'], axis=1, inplace=True)"
   ]
  },
  {
   "cell_type": "code",
   "execution_count": 34,
   "metadata": {},
   "outputs": [],
   "source": [
    "#Sorting the train_set according to 'document_create_date.1' to slice properly into val1 and val2.\n",
    "train.sort_values(by=['document_create_date.1'], inplace=True)"
   ]
  },
  {
   "cell_type": "code",
   "execution_count": 35,
   "metadata": {},
   "outputs": [
    {
     "data": {
      "text/plain": [
       "(43870, 13)"
      ]
     },
     "execution_count": 35,
     "metadata": {},
     "output_type": "execute_result"
    }
   ],
   "source": [
    "train.shape"
   ]
  },
  {
   "cell_type": "code",
   "execution_count": 36,
   "metadata": {},
   "outputs": [
    {
     "data": {
      "text/plain": [
       "<AxesSubplot:>"
      ]
     },
     "execution_count": 36,
     "metadata": {},
     "output_type": "execute_result"
    },
    {
     "data": {
      "image/png": "[encoded data removed]",
      "text/plain": [
       "<Figure size 432x288 with 1 Axes>"
      ]
     },
     "metadata": {
      "needs_background": "light"
     },
     "output_type": "display_data"
    }
   ],
   "source": [
    "#Box Plot to check the outliers.\n",
    "train.boxplot(column =['total_open_amount'], grid = False)\n",
    "#There are lot of outliers , nothing should be dropped, if outliers dropped then it our lots of data will be lost."
   ]
  },
  {
   "cell_type": "code",
   "execution_count": 37,
   "metadata": {},
   "outputs": [],
   "source": [
    "#Slicing the data set to validation_set1 and validation_set2 and train_set\n",
    "val1 = train.iloc[30710:37290] #70-->85\n",
    "val2 = train.iloc[37290:] #85-->100\n",
    "train = train.iloc[:30710] #Upto 70"
   ]
  },
  {
   "cell_type": "code",
   "execution_count": 38,
   "metadata": {},
   "outputs": [
    {
     "data": {
      "text/plain": [
       "(6580, 13)"
      ]
     },
     "execution_count": 38,
     "metadata": {},
     "output_type": "execute_result"
    }
   ],
   "source": [
    "val1.shape"
   ]
  },
  {
   "cell_type": "code",
   "execution_count": 39,
   "metadata": {},
   "outputs": [
    {
     "data": {
      "text/plain": [
       "(6580, 13)"
      ]
     },
     "execution_count": 39,
     "metadata": {},
     "output_type": "execute_result"
    }
   ],
   "source": [
    "val2.shape"
   ]
  },
  {
   "cell_type": "code",
   "execution_count": 40,
   "metadata": {},
   "outputs": [
    {
     "data": {
      "text/plain": [
       "(30710, 13)"
      ]
     },
     "execution_count": 40,
     "metadata": {},
     "output_type": "execute_result"
    }
   ],
   "source": [
    "train.shape"
   ]
  },
  {
   "cell_type": "code",
   "execution_count": 41,
   "metadata": {},
   "outputs": [
    {
     "data": {
      "text/html": [
       "<div>\n",
       "<style scoped>\n",
       "    .dataframe tbody tr th:only-of-type {\n",
       "        vertical-align: middle;\n",
       "    }\n",
       "\n",
       "    .dataframe tbody tr th {\n",
       "        vertical-align: top;\n",
       "    }\n",
       "\n",
       "    .dataframe thead th {\n",
       "        text-align: right;\n",
       "    }\n",
       "</style>\n",
       "<table border=\"1\" class=\"dataframe\">\n",
       "  <thead>\n",
       "    <tr style=\"text-align: right;\">\n",
       "      <th></th>\n",
       "      <th>business_code</th>\n",
       "      <th>cust_number</th>\n",
       "      <th>name_customer</th>\n",
       "      <th>clear_date</th>\n",
       "      <th>business_year</th>\n",
       "      <th>document_create_date.1</th>\n",
       "      <th>due_in_date</th>\n",
       "      <th>invoice_currency</th>\n",
       "      <th>total_open_amount</th>\n",
       "      <th>baseline_create_date</th>\n",
       "      <th>cust_payment_terms</th>\n",
       "      <th>invoice_id</th>\n",
       "      <th>delay</th>\n",
       "    </tr>\n",
       "  </thead>\n",
       "  <tbody>\n",
       "    <tr>\n",
       "      <th>470</th>\n",
       "      <td>U001</td>\n",
       "      <td>0200759878</td>\n",
       "      <td>SA corporation</td>\n",
       "      <td>2019-01-22</td>\n",
       "      <td>2019.0</td>\n",
       "      <td>2018-12-30</td>\n",
       "      <td>2019-01-14</td>\n",
       "      <td>USD</td>\n",
       "      <td>14380.16</td>\n",
       "      <td>2018-12-30</td>\n",
       "      <td>NAH4</td>\n",
       "      <td>1.928540e+09</td>\n",
       "      <td>8.0</td>\n",
       "    </tr>\n",
       "    <tr>\n",
       "      <th>42816</th>\n",
       "      <td>U001</td>\n",
       "      <td>0100001196</td>\n",
       "      <td>DOLLAR</td>\n",
       "      <td>2019-01-14</td>\n",
       "      <td>2019.0</td>\n",
       "      <td>2018-12-30</td>\n",
       "      <td>2019-01-14</td>\n",
       "      <td>USD</td>\n",
       "      <td>48848.38</td>\n",
       "      <td>2018-12-30</td>\n",
       "      <td>NAA8</td>\n",
       "      <td>1.928538e+09</td>\n",
       "      <td>0.0</td>\n",
       "    </tr>\n",
       "    <tr>\n",
       "      <th>8167</th>\n",
       "      <td>U001</td>\n",
       "      <td>0200762301</td>\n",
       "      <td>C&amp;S WH systems</td>\n",
       "      <td>2019-01-15</td>\n",
       "      <td>2019.0</td>\n",
       "      <td>2018-12-30</td>\n",
       "      <td>2019-01-14</td>\n",
       "      <td>USD</td>\n",
       "      <td>100575.77</td>\n",
       "      <td>2018-12-30</td>\n",
       "      <td>NAC6</td>\n",
       "      <td>1.928538e+09</td>\n",
       "      <td>1.0</td>\n",
       "    </tr>\n",
       "    <tr>\n",
       "      <th>23048</th>\n",
       "      <td>U001</td>\n",
       "      <td>0200769623</td>\n",
       "      <td>WAL-MAR co</td>\n",
       "      <td>2019-01-09</td>\n",
       "      <td>2019.0</td>\n",
       "      <td>2018-12-30</td>\n",
       "      <td>2019-01-14</td>\n",
       "      <td>USD</td>\n",
       "      <td>38457.44</td>\n",
       "      <td>2018-12-30</td>\n",
       "      <td>NAH4</td>\n",
       "      <td>1.928543e+09</td>\n",
       "      <td>-5.0</td>\n",
       "    </tr>\n",
       "    <tr>\n",
       "      <th>34609</th>\n",
       "      <td>U001</td>\n",
       "      <td>0200726979</td>\n",
       "      <td>BJ'S  llc</td>\n",
       "      <td>2019-01-15</td>\n",
       "      <td>2019.0</td>\n",
       "      <td>2018-12-30</td>\n",
       "      <td>2019-01-14</td>\n",
       "      <td>USD</td>\n",
       "      <td>240.86</td>\n",
       "      <td>2018-12-30</td>\n",
       "      <td>NAA8</td>\n",
       "      <td>1.928538e+09</td>\n",
       "      <td>1.0</td>\n",
       "    </tr>\n",
       "    <tr>\n",
       "      <th>...</th>\n",
       "      <td>...</td>\n",
       "      <td>...</td>\n",
       "      <td>...</td>\n",
       "      <td>...</td>\n",
       "      <td>...</td>\n",
       "      <td>...</td>\n",
       "      <td>...</td>\n",
       "      <td>...</td>\n",
       "      <td>...</td>\n",
       "      <td>...</td>\n",
       "      <td>...</td>\n",
       "      <td>...</td>\n",
       "      <td>...</td>\n",
       "    </tr>\n",
       "    <tr>\n",
       "      <th>4865</th>\n",
       "      <td>U001</td>\n",
       "      <td>0200769623</td>\n",
       "      <td>WAL-MAR associates</td>\n",
       "      <td>2019-10-18</td>\n",
       "      <td>2019.0</td>\n",
       "      <td>2019-10-07</td>\n",
       "      <td>2019-10-22</td>\n",
       "      <td>USD</td>\n",
       "      <td>14865.66</td>\n",
       "      <td>2019-10-07</td>\n",
       "      <td>NAH4</td>\n",
       "      <td>1.929973e+09</td>\n",
       "      <td>-4.0</td>\n",
       "    </tr>\n",
       "    <tr>\n",
       "      <th>11414</th>\n",
       "      <td>U001</td>\n",
       "      <td>0200726979</td>\n",
       "      <td>BJ'S  trust</td>\n",
       "      <td>2019-10-22</td>\n",
       "      <td>2019.0</td>\n",
       "      <td>2019-10-07</td>\n",
       "      <td>2019-10-22</td>\n",
       "      <td>USD</td>\n",
       "      <td>334.30</td>\n",
       "      <td>2019-10-07</td>\n",
       "      <td>NAA8</td>\n",
       "      <td>1.929974e+09</td>\n",
       "      <td>0.0</td>\n",
       "    </tr>\n",
       "    <tr>\n",
       "      <th>3175</th>\n",
       "      <td>CA02</td>\n",
       "      <td>0140104409</td>\n",
       "      <td>LOB</td>\n",
       "      <td>2019-10-18</td>\n",
       "      <td>2019.0</td>\n",
       "      <td>2019-10-07</td>\n",
       "      <td>2019-10-17</td>\n",
       "      <td>CAD</td>\n",
       "      <td>58018.55</td>\n",
       "      <td>2019-10-07</td>\n",
       "      <td>CA10</td>\n",
       "      <td>2.960584e+09</td>\n",
       "      <td>1.0</td>\n",
       "    </tr>\n",
       "    <tr>\n",
       "      <th>8938</th>\n",
       "      <td>U001</td>\n",
       "      <td>0200759878</td>\n",
       "      <td>SA us</td>\n",
       "      <td>2019-10-23</td>\n",
       "      <td>2019.0</td>\n",
       "      <td>2019-10-07</td>\n",
       "      <td>2019-10-22</td>\n",
       "      <td>USD</td>\n",
       "      <td>29137.69</td>\n",
       "      <td>2019-10-07</td>\n",
       "      <td>NAH4</td>\n",
       "      <td>1.929970e+09</td>\n",
       "      <td>1.0</td>\n",
       "    </tr>\n",
       "    <tr>\n",
       "      <th>45017</th>\n",
       "      <td>U001</td>\n",
       "      <td>0200769623</td>\n",
       "      <td>WAL-MAR foundation</td>\n",
       "      <td>2019-10-24</td>\n",
       "      <td>2019.0</td>\n",
       "      <td>2019-10-07</td>\n",
       "      <td>2019-10-22</td>\n",
       "      <td>USD</td>\n",
       "      <td>273.30</td>\n",
       "      <td>2019-10-07</td>\n",
       "      <td>NAH4</td>\n",
       "      <td>1.929976e+09</td>\n",
       "      <td>2.0</td>\n",
       "    </tr>\n",
       "  </tbody>\n",
       "</table>\n",
       "<p>30710 rows × 13 columns</p>\n",
       "</div>"
      ],
      "text/plain": [
       "      business_code cust_number       name_customer clear_date  business_year  \\\n",
       "470            U001  0200759878      SA corporation 2019-01-22         2019.0   \n",
       "42816          U001  0100001196             DOLLAR  2019-01-14         2019.0   \n",
       "8167           U001  0200762301      C&S WH systems 2019-01-15         2019.0   \n",
       "23048          U001  0200769623          WAL-MAR co 2019-01-09         2019.0   \n",
       "34609          U001  0200726979           BJ'S  llc 2019-01-15         2019.0   \n",
       "...             ...         ...                 ...        ...            ...   \n",
       "4865           U001  0200769623  WAL-MAR associates 2019-10-18         2019.0   \n",
       "11414          U001  0200726979         BJ'S  trust 2019-10-22         2019.0   \n",
       "3175           CA02  0140104409                LOB  2019-10-18         2019.0   \n",
       "8938           U001  0200759878               SA us 2019-10-23         2019.0   \n",
       "45017          U001  0200769623  WAL-MAR foundation 2019-10-24         2019.0   \n",
       "\n",
       "      document_create_date.1 due_in_date invoice_currency  total_open_amount  \\\n",
       "470               2018-12-30  2019-01-14              USD           14380.16   \n",
       "42816             2018-12-30  2019-01-14              USD           48848.38   \n",
       "8167              2018-12-30  2019-01-14              USD          100575.77   \n",
       "23048             2018-12-30  2019-01-14              USD           38457.44   \n",
       "34609             2018-12-30  2019-01-14              USD             240.86   \n",
       "...                      ...         ...              ...                ...   \n",
       "4865              2019-10-07  2019-10-22              USD           14865.66   \n",
       "11414             2019-10-07  2019-10-22              USD             334.30   \n",
       "3175              2019-10-07  2019-10-17              CAD           58018.55   \n",
       "8938              2019-10-07  2019-10-22              USD           29137.69   \n",
       "45017             2019-10-07  2019-10-22              USD             273.30   \n",
       "\n",
       "      baseline_create_date cust_payment_terms    invoice_id  delay  \n",
       "470             2018-12-30               NAH4  1.928540e+09    8.0  \n",
       "42816           2018-12-30               NAA8  1.928538e+09    0.0  \n",
       "8167            2018-12-30               NAC6  1.928538e+09    1.0  \n",
       "23048           2018-12-30               NAH4  1.928543e+09   -5.0  \n",
       "34609           2018-12-30               NAA8  1.928538e+09    1.0  \n",
       "...                    ...                ...           ...    ...  \n",
       "4865            2019-10-07               NAH4  1.929973e+09   -4.0  \n",
       "11414           2019-10-07               NAA8  1.929974e+09    0.0  \n",
       "3175            2019-10-07               CA10  2.960584e+09    1.0  \n",
       "8938            2019-10-07               NAH4  1.929970e+09    1.0  \n",
       "45017           2019-10-07               NAH4  1.929976e+09    2.0  \n",
       "\n",
       "[30710 rows x 13 columns]"
      ]
     },
     "execution_count": 41,
     "metadata": {},
     "output_type": "execute_result"
    }
   ],
   "source": [
    "train"
   ]
  },
  {
   "cell_type": "code",
   "execution_count": 42,
   "metadata": {},
   "outputs": [],
   "source": [
    "#Resetting index according to sorting of 'document_create_date.1'.\n",
    "train.reset_index(inplace=True)\n",
    "val1.reset_index(inplace=True)\n",
    "val2.reset_index(inplace=True)"
   ]
  },
  {
   "cell_type": "markdown",
   "metadata": {},
   "source": [
    "# EDA and Feature Engineering"
   ]
  },
  {
   "cell_type": "code",
   "execution_count": 43,
   "metadata": {},
   "outputs": [],
   "source": [
    "# target encoding 'name_customer' column\n",
    "\n",
    "from collections import defaultdict\n",
    "\n",
    "name = {}\n",
    "name = (train.groupby('name_customer')['delay'].mean()).to_dict()\n",
    "\n",
    "def delay_mean():\n",
    "    return train['delay'].mean()\n",
    "\n",
    "cust_name = {}\n",
    "cust_name = defaultdict(delay_mean)\n",
    "\n",
    "for i,j in name.items():\n",
    "    cust_name[i] = j\n",
    "    \n",
    "train['name_customer'] = train['name_customer'].map(cust_name)\n",
    "val1['name_customer'] = val1['name_customer'].map(cust_name)\n",
    "val2['name_customer'] = val2['name_customer'].map(cust_name)\n",
    "test['name_customer'] = test['name_customer'].map(cust_name)"
   ]
  },
  {
   "cell_type": "code",
   "execution_count": 44,
   "metadata": {},
   "outputs": [],
   "source": [
    "# target encoding 'cust_number' column\n",
    "\n",
    "from collections import defaultdict\n",
    "\n",
    "name = {}\n",
    "name = (train.groupby('cust_number')['delay'].mean()).to_dict()\n",
    "\n",
    "def delay_mean():\n",
    "    return train['delay'].mean()\n",
    "\n",
    "cust_num = {}\n",
    "cust_num = defaultdict(delay_mean)\n",
    "\n",
    "for i,j in name.items():\n",
    "    cust_num[i] = j\n",
    "    \n",
    "train['cust_number'] = train['cust_number'].map(cust_num)\n",
    "val1['cust_number'] = val1['cust_number'].map(cust_num)\n",
    "val2['cust_number'] = val2['cust_number'].map(cust_num)\n",
    "test['cust_number'] = test['cust_number'].map(cust_num)"
   ]
  },
  {
   "cell_type": "code",
   "execution_count": 45,
   "metadata": {},
   "outputs": [],
   "source": [
    "# one hot encoding cust_payment_terms column\n",
    "code = {}\n",
    "c=0\n",
    "for i in train['cust_payment_terms']:\n",
    "    if i not in code:\n",
    "        code[i] = c\n",
    "        c += 1\n",
    "    \n",
    "train['cust_payment_terms'] = train['cust_payment_terms'].map(code)\n",
    "val1['cust_payment_terms'] = val1['cust_payment_terms'].map(code)\n",
    "val2['cust_payment_terms'] = val2['cust_payment_terms'].map(code)\n",
    "test['cust_payment_terms'] = test['cust_payment_terms'].map(code)"
   ]
  },
  {
   "cell_type": "code",
   "execution_count": 46,
   "metadata": {},
   "outputs": [
    {
     "data": {
      "text/html": [
       "<div>\n",
       "<style scoped>\n",
       "    .dataframe tbody tr th:only-of-type {\n",
       "        vertical-align: middle;\n",
       "    }\n",
       "\n",
       "    .dataframe tbody tr th {\n",
       "        vertical-align: top;\n",
       "    }\n",
       "\n",
       "    .dataframe thead th {\n",
       "        text-align: right;\n",
       "    }\n",
       "</style>\n",
       "<table border=\"1\" class=\"dataframe\">\n",
       "  <thead>\n",
       "    <tr style=\"text-align: right;\">\n",
       "      <th></th>\n",
       "      <th>index</th>\n",
       "      <th>business_code</th>\n",
       "      <th>cust_number</th>\n",
       "      <th>name_customer</th>\n",
       "      <th>clear_date</th>\n",
       "      <th>business_year</th>\n",
       "      <th>document_create_date.1</th>\n",
       "      <th>due_in_date</th>\n",
       "      <th>invoice_currency</th>\n",
       "      <th>total_open_amount</th>\n",
       "      <th>baseline_create_date</th>\n",
       "      <th>cust_payment_terms</th>\n",
       "      <th>invoice_id</th>\n",
       "      <th>delay</th>\n",
       "    </tr>\n",
       "  </thead>\n",
       "  <tbody>\n",
       "    <tr>\n",
       "      <th>0</th>\n",
       "      <td>470</td>\n",
       "      <td>U001</td>\n",
       "      <td>1.025332</td>\n",
       "      <td>0.431579</td>\n",
       "      <td>2019-01-22</td>\n",
       "      <td>2019.0</td>\n",
       "      <td>2018-12-30</td>\n",
       "      <td>2019-01-14</td>\n",
       "      <td>USD</td>\n",
       "      <td>14380.16</td>\n",
       "      <td>2018-12-30</td>\n",
       "      <td>0</td>\n",
       "      <td>1.928540e+09</td>\n",
       "      <td>8.0</td>\n",
       "    </tr>\n",
       "    <tr>\n",
       "      <th>1</th>\n",
       "      <td>42816</td>\n",
       "      <td>U001</td>\n",
       "      <td>0.725806</td>\n",
       "      <td>1.000000</td>\n",
       "      <td>2019-01-14</td>\n",
       "      <td>2019.0</td>\n",
       "      <td>2018-12-30</td>\n",
       "      <td>2019-01-14</td>\n",
       "      <td>USD</td>\n",
       "      <td>48848.38</td>\n",
       "      <td>2018-12-30</td>\n",
       "      <td>1</td>\n",
       "      <td>1.928538e+09</td>\n",
       "      <td>0.0</td>\n",
       "    </tr>\n",
       "    <tr>\n",
       "      <th>2</th>\n",
       "      <td>8167</td>\n",
       "      <td>U001</td>\n",
       "      <td>0.514595</td>\n",
       "      <td>1.391304</td>\n",
       "      <td>2019-01-15</td>\n",
       "      <td>2019.0</td>\n",
       "      <td>2018-12-30</td>\n",
       "      <td>2019-01-14</td>\n",
       "      <td>USD</td>\n",
       "      <td>100575.77</td>\n",
       "      <td>2018-12-30</td>\n",
       "      <td>2</td>\n",
       "      <td>1.928538e+09</td>\n",
       "      <td>1.0</td>\n",
       "    </tr>\n",
       "    <tr>\n",
       "      <th>3</th>\n",
       "      <td>23048</td>\n",
       "      <td>U001</td>\n",
       "      <td>-2.044448</td>\n",
       "      <td>-1.592375</td>\n",
       "      <td>2019-01-09</td>\n",
       "      <td>2019.0</td>\n",
       "      <td>2018-12-30</td>\n",
       "      <td>2019-01-14</td>\n",
       "      <td>USD</td>\n",
       "      <td>38457.44</td>\n",
       "      <td>2018-12-30</td>\n",
       "      <td>0</td>\n",
       "      <td>1.928543e+09</td>\n",
       "      <td>-5.0</td>\n",
       "    </tr>\n",
       "    <tr>\n",
       "      <th>4</th>\n",
       "      <td>34609</td>\n",
       "      <td>U001</td>\n",
       "      <td>0.876585</td>\n",
       "      <td>0.991379</td>\n",
       "      <td>2019-01-15</td>\n",
       "      <td>2019.0</td>\n",
       "      <td>2018-12-30</td>\n",
       "      <td>2019-01-14</td>\n",
       "      <td>USD</td>\n",
       "      <td>240.86</td>\n",
       "      <td>2018-12-30</td>\n",
       "      <td>1</td>\n",
       "      <td>1.928538e+09</td>\n",
       "      <td>1.0</td>\n",
       "    </tr>\n",
       "  </tbody>\n",
       "</table>\n",
       "</div>"
      ],
      "text/plain": [
       "   index business_code  cust_number  name_customer clear_date  business_year  \\\n",
       "0    470          U001     1.025332       0.431579 2019-01-22         2019.0   \n",
       "1  42816          U001     0.725806       1.000000 2019-01-14         2019.0   \n",
       "2   8167          U001     0.514595       1.391304 2019-01-15         2019.0   \n",
       "3  23048          U001    -2.044448      -1.592375 2019-01-09         2019.0   \n",
       "4  34609          U001     0.876585       0.991379 2019-01-15         2019.0   \n",
       "\n",
       "  document_create_date.1 due_in_date invoice_currency  total_open_amount  \\\n",
       "0             2018-12-30  2019-01-14              USD           14380.16   \n",
       "1             2018-12-30  2019-01-14              USD           48848.38   \n",
       "2             2018-12-30  2019-01-14              USD          100575.77   \n",
       "3             2018-12-30  2019-01-14              USD           38457.44   \n",
       "4             2018-12-30  2019-01-14              USD             240.86   \n",
       "\n",
       "  baseline_create_date  cust_payment_terms    invoice_id  delay  \n",
       "0           2018-12-30                   0  1.928540e+09    8.0  \n",
       "1           2018-12-30                   1  1.928538e+09    0.0  \n",
       "2           2018-12-30                   2  1.928538e+09    1.0  \n",
       "3           2018-12-30                   0  1.928543e+09   -5.0  \n",
       "4           2018-12-30                   1  1.928538e+09    1.0  "
      ]
     },
     "execution_count": 46,
     "metadata": {},
     "output_type": "execute_result"
    }
   ],
   "source": [
    "train.head()"
   ]
  },
  {
   "cell_type": "code",
   "execution_count": 49,
   "metadata": {},
   "outputs": [],
   "source": [
    "train.drop('index',axis = 1, inplace = True)\n",
    "val1.drop('index',axis = 1, inplace = True)\n",
    "val2.drop('index',axis = 1, inplace = True)"
   ]
  },
  {
   "cell_type": "code",
   "execution_count": 50,
   "metadata": {},
   "outputs": [],
   "source": [
    "#Converting CAD to USD, for dropping the invoice currency column.\n",
    "from forex_python.converter import CurrencyRates \n",
    "\n",
    "c = CurrencyRates()\n",
    "train.loc[(train.invoice_currency != 'USD'), ['total_open_amount']] *= c.get_rate('CAD', 'USD')\n",
    "test.loc[(test.invoice_currency != 'USD'), ['total_open_amount']] *= c.get_rate('CAD', 'USD')\n",
    "val1.loc[(val1.invoice_currency != 'USD'), ['total_open_amount']] *= c.get_rate('CAD', 'USD')\n",
    "val2.loc[(val2.invoice_currency != 'USD'), ['total_open_amount']] *= c.get_rate('CAD', 'USD')"
   ]
  },
  {
   "cell_type": "code",
   "execution_count": 51,
   "metadata": {},
   "outputs": [],
   "source": [
    "# one hot encoding invoice_currency column\n",
    "\n",
    "curr = {}\n",
    "c=0\n",
    "for i in train['invoice_currency']:\n",
    "    if i not in curr:\n",
    "        curr[i] = c\n",
    "        c += 1\n",
    "\n",
    "train['invoice_currency'] = train['invoice_currency'].map(curr)\n",
    "val1['invoice_currency'] = val1['invoice_currency'].map(curr)\n",
    "val2['invoice_currency'] = val2['invoice_currency'].map(curr)\n",
    "test['invoice_currency'] = test['invoice_currency'].map(curr)"
   ]
  },
  {
   "cell_type": "code",
   "execution_count": 52,
   "metadata": {},
   "outputs": [],
   "source": [
    "# one hot encoding business_code column\n",
    "code = {}\n",
    "c=0\n",
    "for i in train['business_code']:\n",
    "    if i not in code:\n",
    "        code[i] = c\n",
    "        c += 1\n",
    "    \n",
    "train['business_code'] = train['business_code'].map(code)\n",
    "val1['business_code'] = val1['business_code'].map(code)\n",
    "val2['business_code'] = val2['business_code'].map(code)\n",
    "test['business_code'] = test['business_code'].map(code)"
   ]
  },
  {
   "cell_type": "code",
   "execution_count": 53,
   "metadata": {},
   "outputs": [],
   "source": [
    "#Dropping 'invoice_currency'\n",
    "train.drop('invoice_currency',axis = 1, inplace = True)\n",
    "test.drop('invoice_currency',axis = 1, inplace = True)\n",
    "val1.drop('invoice_currency',axis = 1, inplace = True)\n",
    "val2.drop('invoice_currency',axis = 1, inplace = True)"
   ]
  },
  {
   "cell_type": "code",
   "execution_count": 54,
   "metadata": {},
   "outputs": [
    {
     "data": {
      "text/html": [
       "<div>\n",
       "<style scoped>\n",
       "    .dataframe tbody tr th:only-of-type {\n",
       "        vertical-align: middle;\n",
       "    }\n",
       "\n",
       "    .dataframe tbody tr th {\n",
       "        vertical-align: top;\n",
       "    }\n",
       "\n",
       "    .dataframe thead th {\n",
       "        text-align: right;\n",
       "    }\n",
       "</style>\n",
       "<table border=\"1\" class=\"dataframe\">\n",
       "  <thead>\n",
       "    <tr style=\"text-align: right;\">\n",
       "      <th></th>\n",
       "      <th>business_code</th>\n",
       "      <th>cust_number</th>\n",
       "      <th>name_customer</th>\n",
       "      <th>clear_date</th>\n",
       "      <th>business_year</th>\n",
       "      <th>document_create_date.1</th>\n",
       "      <th>due_in_date</th>\n",
       "      <th>total_open_amount</th>\n",
       "      <th>baseline_create_date</th>\n",
       "      <th>cust_payment_terms</th>\n",
       "      <th>invoice_id</th>\n",
       "      <th>delay</th>\n",
       "    </tr>\n",
       "  </thead>\n",
       "  <tbody>\n",
       "    <tr>\n",
       "      <th>0</th>\n",
       "      <td>0</td>\n",
       "      <td>1.025332</td>\n",
       "      <td>0.431579</td>\n",
       "      <td>2019-01-22</td>\n",
       "      <td>2019.0</td>\n",
       "      <td>2018-12-30</td>\n",
       "      <td>2019-01-14</td>\n",
       "      <td>14380.16</td>\n",
       "      <td>2018-12-30</td>\n",
       "      <td>0</td>\n",
       "      <td>1.928540e+09</td>\n",
       "      <td>8.0</td>\n",
       "    </tr>\n",
       "    <tr>\n",
       "      <th>1</th>\n",
       "      <td>0</td>\n",
       "      <td>0.725806</td>\n",
       "      <td>1.000000</td>\n",
       "      <td>2019-01-14</td>\n",
       "      <td>2019.0</td>\n",
       "      <td>2018-12-30</td>\n",
       "      <td>2019-01-14</td>\n",
       "      <td>48848.38</td>\n",
       "      <td>2018-12-30</td>\n",
       "      <td>1</td>\n",
       "      <td>1.928538e+09</td>\n",
       "      <td>0.0</td>\n",
       "    </tr>\n",
       "    <tr>\n",
       "      <th>2</th>\n",
       "      <td>0</td>\n",
       "      <td>0.514595</td>\n",
       "      <td>1.391304</td>\n",
       "      <td>2019-01-15</td>\n",
       "      <td>2019.0</td>\n",
       "      <td>2018-12-30</td>\n",
       "      <td>2019-01-14</td>\n",
       "      <td>100575.77</td>\n",
       "      <td>2018-12-30</td>\n",
       "      <td>2</td>\n",
       "      <td>1.928538e+09</td>\n",
       "      <td>1.0</td>\n",
       "    </tr>\n",
       "    <tr>\n",
       "      <th>3</th>\n",
       "      <td>0</td>\n",
       "      <td>-2.044448</td>\n",
       "      <td>-1.592375</td>\n",
       "      <td>2019-01-09</td>\n",
       "      <td>2019.0</td>\n",
       "      <td>2018-12-30</td>\n",
       "      <td>2019-01-14</td>\n",
       "      <td>38457.44</td>\n",
       "      <td>2018-12-30</td>\n",
       "      <td>0</td>\n",
       "      <td>1.928543e+09</td>\n",
       "      <td>-5.0</td>\n",
       "    </tr>\n",
       "    <tr>\n",
       "      <th>4</th>\n",
       "      <td>0</td>\n",
       "      <td>0.876585</td>\n",
       "      <td>0.991379</td>\n",
       "      <td>2019-01-15</td>\n",
       "      <td>2019.0</td>\n",
       "      <td>2018-12-30</td>\n",
       "      <td>2019-01-14</td>\n",
       "      <td>240.86</td>\n",
       "      <td>2018-12-30</td>\n",
       "      <td>1</td>\n",
       "      <td>1.928538e+09</td>\n",
       "      <td>1.0</td>\n",
       "    </tr>\n",
       "  </tbody>\n",
       "</table>\n",
       "</div>"
      ],
      "text/plain": [
       "   business_code  cust_number  name_customer clear_date  business_year  \\\n",
       "0              0     1.025332       0.431579 2019-01-22         2019.0   \n",
       "1              0     0.725806       1.000000 2019-01-14         2019.0   \n",
       "2              0     0.514595       1.391304 2019-01-15         2019.0   \n",
       "3              0    -2.044448      -1.592375 2019-01-09         2019.0   \n",
       "4              0     0.876585       0.991379 2019-01-15         2019.0   \n",
       "\n",
       "  document_create_date.1 due_in_date  total_open_amount baseline_create_date  \\\n",
       "0             2018-12-30  2019-01-14           14380.16           2018-12-30   \n",
       "1             2018-12-30  2019-01-14           48848.38           2018-12-30   \n",
       "2             2018-12-30  2019-01-14          100575.77           2018-12-30   \n",
       "3             2018-12-30  2019-01-14           38457.44           2018-12-30   \n",
       "4             2018-12-30  2019-01-14             240.86           2018-12-30   \n",
       "\n",
       "   cust_payment_terms    invoice_id  delay  \n",
       "0                   0  1.928540e+09    8.0  \n",
       "1                   1  1.928538e+09    0.0  \n",
       "2                   2  1.928538e+09    1.0  \n",
       "3                   0  1.928543e+09   -5.0  \n",
       "4                   1  1.928538e+09    1.0  "
      ]
     },
     "execution_count": 54,
     "metadata": {},
     "output_type": "execute_result"
    }
   ],
   "source": [
    "train.head()"
   ]
  },
  {
   "cell_type": "code",
   "execution_count": 55,
   "metadata": {},
   "outputs": [],
   "source": [
    "# calculating difference between the date columns\n",
    "\n",
    "train['due_create'] = (train['due_in_date'] - train['document_create_date.1']).dt.days\n",
    "train['create_base'] = (train['document_create_date.1'] - train['baseline_create_date']).dt.days\n",
    "train['due_base'] = (train['due_in_date'] - train['baseline_create_date']).dt.days\n",
    "\n",
    "val1['due_create'] = (val1['due_in_date'] - val1['document_create_date.1']).dt.days\n",
    "val1['create_base'] = (val1['document_create_date.1'] - val1['baseline_create_date']).dt.days\n",
    "val1['due_base'] = (val1['due_in_date'] - val1['baseline_create_date']).dt.days\n",
    "\n",
    "val2['due_create'] = (val2['due_in_date'] - val2['document_create_date.1']).dt.days\n",
    "val2['create_base'] = (val2['document_create_date.1'] - val2['baseline_create_date']).dt.days\n",
    "val2['due_base'] = (val2['due_in_date'] - val2['baseline_create_date']).dt.days\n",
    "\n",
    "test['due_create'] = (test['due_in_date'] - test['document_create_date.1']).dt.days\n",
    "test['create_base'] = (test['document_create_date.1'] - test['baseline_create_date']).dt.days\n",
    "test['due_base'] = (test['due_in_date'] - test['baseline_create_date']).dt.days"
   ]
  },
  {
   "cell_type": "code",
   "execution_count": 56,
   "metadata": {},
   "outputs": [],
   "source": [
    "# Extracting month from each of the date columns\n",
    "\n",
    "train['doc_create_month'] = train['document_create_date.1'].dt.month\n",
    "train['due_month'] = train['due_in_date'].dt.month\n",
    "train['base_create_month'] = train['baseline_create_date'].dt.month\n",
    "\n",
    "val1['doc_create_month'] = val1['document_create_date.1'].dt.month\n",
    "val1['due_month'] = val1['due_in_date'].dt.month\n",
    "val1['base_create_month'] = val1['baseline_create_date'].dt.month\n",
    "\n",
    "val2['doc_create_month'] = val2['document_create_date.1'].dt.month\n",
    "val2['due_month'] = val2['due_in_date'].dt.month\n",
    "val2['base_create_month'] = val2['baseline_create_date'].dt.month\n",
    "\n",
    "test['doc_create_month'] = test['document_create_date.1'].dt.month\n",
    "test['due_month'] = test['due_in_date'].dt.month\n",
    "test['base_create_month'] = test['baseline_create_date'].dt.month"
   ]
  },
  {
   "cell_type": "code",
   "execution_count": 57,
   "metadata": {},
   "outputs": [],
   "source": [
    "# keeping the invoice_id and due_in_date columns of the train, validation and test set in a separate dataframe\n",
    "\n",
    "f_train = pd.DataFrame(columns=['invoice_id', 'due_in_date'])\n",
    "f_val1 = pd.DataFrame(columns=['invoice_id', 'due_in_date'])\n",
    "f_val2 = pd.DataFrame(columns=['invoice_id', 'due_in_date'])\n",
    "f_test = pd.DataFrame(columns=['invoice_id', 'due_in_date'])\n",
    "\n",
    "f_train['invoice_id'] = train['invoice_id']\n",
    "f_val1['invoice_id'] = val1['invoice_id']\n",
    "f_val2['invoice_id'] = val2['invoice_id']\n",
    "f_test['invoice_id'] = test['invoice_id']\n",
    "\n",
    "f_train['due_in_date'] = train['due_in_date']\n",
    "f_val1['due_in_date'] = val1['due_in_date']\n",
    "f_val2['due_in_date'] = val2['due_in_date']\n",
    "f_test['due_in_date'] = test['due_in_date']"
   ]
  },
  {
   "cell_type": "code",
   "execution_count": 58,
   "metadata": {},
   "outputs": [],
   "source": [
    "# Extracting year from each of the date columns\n",
    "\n",
    "train['doc_create_year'] = train['document_create_date.1'].dt.year\n",
    "train['due_year'] = train['due_in_date'].dt.year\n",
    "train['base_create_year'] = train['baseline_create_date'].dt.year\n",
    "\n",
    "val1['doc_create_year'] = val1['document_create_date.1'].dt.year\n",
    "val1['due_year'] = val1['due_in_date'].dt.year\n",
    "val1['base_create_year'] = val1['baseline_create_date'].dt.year\n",
    "\n",
    "val2['doc_create_year'] = val2['document_create_date.1'].dt.year\n",
    "val2['due_year'] = val2['due_in_date'].dt.year\n",
    "val2['base_create_year'] = val2['baseline_create_date'].dt.year\n",
    "\n",
    "test['doc_create_year'] = test['document_create_date.1'].dt.year\n",
    "test['due_year'] = test['due_in_date'].dt.year\n",
    "test['base_create_year'] = test['baseline_create_date'].dt.year\n"
   ]
  },
  {
   "cell_type": "code",
   "execution_count": 59,
   "metadata": {},
   "outputs": [
    {
     "data": {
      "text/plain": [
       "delay                 1.000000\n",
       "name_customer         0.705598\n",
       "cust_number           0.686608\n",
       "business_code         0.147303\n",
       "invoice_id            0.126775\n",
       "base_create_year     -0.003554\n",
       "doc_create_year      -0.003937\n",
       "base_create_month    -0.015556\n",
       "doc_create_month     -0.016155\n",
       "total_open_amount    -0.025625\n",
       "due_year             -0.039793\n",
       "due_month            -0.043088\n",
       "cust_payment_terms   -0.052332\n",
       "create_base          -0.053419\n",
       "due_create           -0.197066\n",
       "due_base             -0.202567\n",
       "business_year              NaN\n",
       "Name: delay, dtype: float64"
      ]
     },
     "execution_count": 59,
     "metadata": {},
     "output_type": "execute_result"
    }
   ],
   "source": [
    "train.corr()['delay'].sort_values(ascending = False)"
   ]
  },
  {
   "cell_type": "code",
   "execution_count": 60,
   "metadata": {},
   "outputs": [
    {
     "data": {
      "text/plain": [
       "<AxesSubplot:>"
      ]
     },
     "execution_count": 60,
     "metadata": {},
     "output_type": "execute_result"
    },
    {
     "data": {
      "image/png": "[encoded data removed]",
      "text/plain": [
       "<Figure size 1008x576 with 2 Axes>"
      ]
     },
     "metadata": {
      "needs_background": "light"
     },
     "output_type": "display_data"
    }
   ],
   "source": [
    "#visualisation using heat_map\n",
    "corr=train.corr()\n",
    "plt.figure(figsize=(14,8))\n",
    "sns.heatmap(corr,annot=True)"
   ]
  },
  {
   "cell_type": "code",
   "execution_count": 61,
   "metadata": {},
   "outputs": [],
   "source": [
    "#Dropping below columns after extracting the useful features.\n",
    "train.drop(['business_year','cust_number','invoice_id','doc_create_year','due_year','base_create_year','clear_date','due_in_date','document_create_date.1','baseline_create_date'],axis = 1, inplace = True)\n",
    "test.drop(['business_year','cust_number','invoice_id','doc_create_year','due_year','base_create_year','clear_date','due_in_date','document_create_date.1','baseline_create_date','delay'],axis = 1, inplace = True)\n",
    "val1.drop(['business_year','cust_number','invoice_id','doc_create_year','due_year','base_create_year','clear_date','due_in_date','document_create_date.1','baseline_create_date'],axis = 1, inplace = True)\n",
    "val2.drop(['business_year','cust_number','invoice_id','doc_create_year','due_year','base_create_year','clear_date','due_in_date','document_create_date.1','baseline_create_date'],axis = 1, inplace = True)"
   ]
  },
  {
   "cell_type": "code",
   "execution_count": 62,
   "metadata": {},
   "outputs": [
    {
     "data": {
      "text/plain": [
       "business_code         0\n",
       "name_customer         0\n",
       "total_open_amount     0\n",
       "cust_payment_terms    0\n",
       "delay                 0\n",
       "due_create            0\n",
       "create_base           0\n",
       "due_base              0\n",
       "doc_create_month      0\n",
       "due_month             0\n",
       "base_create_month     0\n",
       "dtype: int64"
      ]
     },
     "execution_count": 62,
     "metadata": {},
     "output_type": "execute_result"
    }
   ],
   "source": [
    "train.isna().sum()"
   ]
  },
  {
   "cell_type": "code",
   "execution_count": 63,
   "metadata": {},
   "outputs": [
    {
     "data": {
      "text/plain": [
       "business_code         0\n",
       "name_customer         0\n",
       "total_open_amount     0\n",
       "cust_payment_terms    3\n",
       "delay                 0\n",
       "due_create            0\n",
       "create_base           0\n",
       "due_base              0\n",
       "doc_create_month      0\n",
       "due_month             0\n",
       "base_create_month     0\n",
       "dtype: int64"
      ]
     },
     "execution_count": 63,
     "metadata": {},
     "output_type": "execute_result"
    }
   ],
   "source": [
    "val1.isna().sum()"
   ]
  },
  {
   "cell_type": "code",
   "execution_count": 64,
   "metadata": {},
   "outputs": [
    {
     "data": {
      "text/plain": [
       "business_code         0\n",
       "name_customer         0\n",
       "total_open_amount     0\n",
       "cust_payment_terms    5\n",
       "delay                 0\n",
       "due_create            0\n",
       "create_base           0\n",
       "due_base              0\n",
       "doc_create_month      0\n",
       "due_month             0\n",
       "base_create_month     0\n",
       "dtype: int64"
      ]
     },
     "execution_count": 64,
     "metadata": {},
     "output_type": "execute_result"
    }
   ],
   "source": [
    "val2.isna().sum()"
   ]
  },
  {
   "cell_type": "code",
   "execution_count": 66,
   "metadata": {},
   "outputs": [],
   "source": [
    "#Dropping the null values\n",
    "val1.dropna(inplace=True)\n",
    "val2.dropna(inplace=True)"
   ]
  },
  {
   "cell_type": "code",
   "execution_count": 67,
   "metadata": {},
   "outputs": [
    {
     "data": {
      "text/plain": [
       "(30710, 11)"
      ]
     },
     "execution_count": 67,
     "metadata": {},
     "output_type": "execute_result"
    }
   ],
   "source": [
    "train.shape"
   ]
  },
  {
   "cell_type": "code",
   "execution_count": 68,
   "metadata": {
    "scrolled": true
   },
   "outputs": [
    {
     "data": {
      "text/plain": [
       "<AxesSubplot:>"
      ]
     },
     "execution_count": 68,
     "metadata": {},
     "output_type": "execute_result"
    },
    {
     "data": {
      "image/png": "[encoded data removed]",
      "text/plain": [
       "<Figure size 1008x576 with 2 Axes>"
      ]
     },
     "metadata": {
      "needs_background": "light"
     },
     "output_type": "display_data"
    }
   ],
   "source": [
    "#visualisation using heatmap\n",
    "corr=train.corr()\n",
    "plt.figure(figsize=(14,8))\n",
    "sns.heatmap(corr,annot=True)"
   ]
  },
  {
   "cell_type": "markdown",
   "metadata": {},
   "source": [
    "# Feature Selection"
   ]
  },
  {
   "cell_type": "code",
   "execution_count": 69,
   "metadata": {},
   "outputs": [
    {
     "data": {
      "image/png": "[encoded data removed]",
      "text/plain": [
       "<Figure size 432x288 with 1 Axes>"
      ]
     },
     "metadata": {
      "needs_background": "light"
     },
     "output_type": "display_data"
    }
   ],
   "source": [
    "# Displaying important features using Random Forest Regressor\n",
    "\n",
    "def tree_based_feature_importance(x_train,y_train):\n",
    "    from sklearn.ensemble import RandomForestRegressor\n",
    "    model = RandomForestRegressor(n_estimators=120)\n",
    "    model.fit(x_train, y_train)\n",
    "    importances = model.feature_importances_\n",
    "    final_df = pd.DataFrame({\"Features\": x_train.columns, \"Importances\":importances})\n",
    "    final_df.set_index('Importances')\n",
    "    final_df = final_df.sort_values('Importances',ascending=False)\n",
    "    pd.Series(model.feature_importances_, index=x_train.columns).nlargest(10).plot(kind='barh',color='cyan')  \n",
    "    return final_df\n",
    "X_train = train[['business_code', 'name_customer', 'total_open_amount', 'cust_payment_terms', 'due_create', 'create_base', 'due_base', 'doc_create_month', 'due_month', 'base_create_month']]\n",
    "Y_train = train[['delay']]\n",
    "feature_importance=tree_based_feature_importance(X_train,Y_train)\n"
   ]
  },
  {
   "cell_type": "code",
   "execution_count": 70,
   "metadata": {},
   "outputs": [
    {
     "data": {
      "text/plain": [
       "delay                 1.000000\n",
       "name_customer         0.705598\n",
       "business_code         0.147303\n",
       "base_create_month    -0.015556\n",
       "doc_create_month     -0.016155\n",
       "total_open_amount    -0.025625\n",
       "due_month            -0.043088\n",
       "cust_payment_terms   -0.052332\n",
       "create_base          -0.053419\n",
       "due_create           -0.197066\n",
       "due_base             -0.202567\n",
       "Name: delay, dtype: float64"
      ]
     },
     "execution_count": 70,
     "metadata": {},
     "output_type": "execute_result"
    }
   ],
   "source": [
    "train.corr()['delay'].sort_values(ascending = False)"
   ]
  },
  {
   "cell_type": "code",
   "execution_count": 71,
   "metadata": {},
   "outputs": [],
   "source": [
    "x_train = train.loc[:, ['business_code', 'due_create', 'name_customer', 'due_base']] \n",
    "y_train = train['delay']\n",
    "\n",
    "x_val1 = val1.loc[:, ['business_code', 'due_create', 'name_customer', 'due_base']] \n",
    "y_val1 = val1['delay']\n",
    "\n",
    "x_val2 = val2.loc[:, ['business_code', 'due_create', 'name_customer', 'due_base']]\n",
    "y_val2 = val2['delay']\n",
    "\n",
    "x_test = test.loc[:, ['business_code', 'due_create', 'name_customer', 'due_base']]\n"
   ]
  },
  {
   "cell_type": "code",
   "execution_count": 72,
   "metadata": {},
   "outputs": [],
   "source": [
    "# Feature Scaling\n",
    "\n",
    "from sklearn.preprocessing import StandardScaler\n",
    "\n",
    "scalerx = StandardScaler().fit(x_train)\n",
    "\n",
    "x_train = scalerx.transform(x_train)\n",
    "\n",
    "x_val1 = scalerx.transform(x_val1)\n",
    "\n",
    "x_val2 = scalerx.transform(x_val2)\n",
    "\n",
    "x_test = scalerx.transform(x_test)\n"
   ]
  },
  {
   "cell_type": "markdown",
   "metadata": {},
   "source": [
    "# Modeling"
   ]
  },
  {
   "cell_type": "code",
   "execution_count": 73,
   "metadata": {},
   "outputs": [],
   "source": [
    "# Modeling & Accuracy Metrics\n",
    "from sklearn.linear_model import LinearRegression\n",
    "from sklearn.svm import SVR\n",
    "from sklearn.tree import DecisionTreeRegressor\n",
    "from sklearn.ensemble import RandomForestRegressor\n",
    "import xgboost as xgb\n",
    "from sklearn.metrics import mean_squared_error\n",
    "from sklearn.metrics import r2_score"
   ]
  },
  {
   "cell_type": "markdown",
   "metadata": {},
   "source": [
    "# Fitting and checking model accuracy with validation set 1"
   ]
  },
  {
   "cell_type": "code",
   "execution_count": 74,
   "metadata": {},
   "outputs": [],
   "source": [
    "# Defining Lists to Store in the Results and Names of Algorithms\n",
    "MSE_Score = []\n",
    "R2_Score = []\n",
    "Algorithm = []"
   ]
  },
  {
   "cell_type": "code",
   "execution_count": 75,
   "metadata": {},
   "outputs": [],
   "source": [
    "# Fitting Simple Linear Regression to the Training Set\n",
    "Algorithm.append('Linear Regression')\n",
    "clf = LinearRegression()\n",
    "clf.fit(x_train, y_train)\n",
    "\n",
    "# Predicting the val1 Results\n",
    "predicted = clf.predict(x_val1)"
   ]
  },
  {
   "cell_type": "code",
   "execution_count": 76,
   "metadata": {},
   "outputs": [],
   "source": [
    "# Appending the Scores For Visualisation at a Later Part\n",
    "MSE_Score.append(mean_squared_error(y_val1, predicted))\n",
    "R2_Score.append(r2_score(y_val1, predicted))"
   ]
  },
  {
   "cell_type": "code",
   "execution_count": 77,
   "metadata": {},
   "outputs": [
    {
     "name": "stdout",
     "output_type": "stream",
     "text": [
      "RMSE:  5.955796771179425\n",
      "Score:  25.16704914289075 %\n"
     ]
    }
   ],
   "source": [
    "\n",
    "print(\"RMSE: \", math.sqrt(mean_squared_error(y_val1, predicted)))\n",
    "print(\"Score: \", (clf.score(x_val1, y_val1))*100, \"%\")\n"
   ]
  },
  {
   "cell_type": "code",
   "execution_count": 78,
   "metadata": {},
   "outputs": [],
   "source": [
    "# Fitting SVR to the Training Set\n",
    "Algorithm.append('Support Vector Regression')\n",
    "clf = SVR()\n",
    "clf.fit(x_train, y_train)\n",
    "\n",
    "# Predicting the val1 Results\n",
    "predicted = clf.predict(x_val1)"
   ]
  },
  {
   "cell_type": "code",
   "execution_count": 79,
   "metadata": {},
   "outputs": [],
   "source": [
    "# Appending the Scores For Visualisation at a Later Part\n",
    "MSE_Score.append(mean_squared_error(y_val1, predicted))\n",
    "R2_Score.append(r2_score(y_val1, predicted))"
   ]
  },
  {
   "cell_type": "code",
   "execution_count": 80,
   "metadata": {},
   "outputs": [
    {
     "name": "stdout",
     "output_type": "stream",
     "text": [
      "RMSE:  5.3354202546371905\n",
      "Score:  39.94483046902112 %\n"
     ]
    }
   ],
   "source": [
    "print(\"RMSE: \", math.sqrt(mean_squared_error(y_val1, predicted)))\n",
    "print(\"Score: \", (clf.score(x_val1, y_val1))*100, \"%\")"
   ]
  },
  {
   "cell_type": "code",
   "execution_count": 81,
   "metadata": {},
   "outputs": [],
   "source": [
    "# Fitting Decision Tree to the Training Set\n",
    "Algorithm.append('Decision Tree Regressor')\n",
    "clf = DecisionTreeRegressor()\n",
    "clf.fit(x_train, y_train)\n",
    "\n",
    "# Predicting the val1 Results\n",
    "predicted = clf.predict(x_val1)"
   ]
  },
  {
   "cell_type": "code",
   "execution_count": 82,
   "metadata": {},
   "outputs": [],
   "source": [
    "MSE_Score.append(mean_squared_error(y_val1, predicted))\n",
    "R2_Score.append(r2_score(y_val1, predicted))"
   ]
  },
  {
   "cell_type": "code",
   "execution_count": 83,
   "metadata": {},
   "outputs": [
    {
     "name": "stdout",
     "output_type": "stream",
     "text": [
      "RMSE:  5.888974904695039\n",
      "Score:  26.836825958887555 %\n"
     ]
    }
   ],
   "source": [
    "print(\"RMSE: \", math.sqrt(mean_squared_error(y_val1, predicted)))\n",
    "print(\"Score: \", (clf.score(x_val1, y_val1))*100, \"%\")"
   ]
  },
  {
   "cell_type": "code",
   "execution_count": 84,
   "metadata": {},
   "outputs": [],
   "source": [
    "# Fitting Random Forest Regressor Tree to the Training Set\n",
    "Algorithm.append('Random Forest Regressor')\n",
    "clf = RandomForestRegressor()\n",
    "clf.fit(x_train, y_train)\n",
    "\n",
    "# Predicting the val1 Results\n",
    "predicted = clf.predict(x_val1)"
   ]
  },
  {
   "cell_type": "code",
   "execution_count": 85,
   "metadata": {},
   "outputs": [],
   "source": [
    "# Appending the Scores For Visualisation at a Later Part\n",
    "MSE_Score.append(mean_squared_error(y_val1, predicted))\n",
    "R2_Score.append(r2_score(y_val1, predicted))"
   ]
  },
  {
   "cell_type": "code",
   "execution_count": 86,
   "metadata": {},
   "outputs": [
    {
     "name": "stdout",
     "output_type": "stream",
     "text": [
      "RMSE:  5.6755001051818335\n",
      "Score:  32.045002143488944 %\n"
     ]
    }
   ],
   "source": [
    "print(\"RMSE: \", math.sqrt(mean_squared_error(y_val1, predicted)))\n",
    "print(\"Score: \", (clf.score(x_val1, y_val1))*100, \"%\")"
   ]
  },
  {
   "cell_type": "code",
   "execution_count": 87,
   "metadata": {},
   "outputs": [],
   "source": [
    "# Fitting XGBoost Regressor to the Training Set\n",
    "Algorithm.append('XGB Regressor')\n",
    "clf = xgb.XGBRegressor()\n",
    "clf.fit(x_train, y_train)\n",
    "\n",
    "# Predicting the val1 Results\n",
    "predicted = clf.predict(x_val1)"
   ]
  },
  {
   "cell_type": "code",
   "execution_count": 88,
   "metadata": {},
   "outputs": [],
   "source": [
    "# Appending the Scores For Visualisation at a Later Part\n",
    "MSE_Score.append(mean_squared_error(y_val1, predicted))\n",
    "R2_Score.append(r2_score(y_val1, predicted))"
   ]
  },
  {
   "cell_type": "code",
   "execution_count": 89,
   "metadata": {},
   "outputs": [
    {
     "name": "stdout",
     "output_type": "stream",
     "text": [
      "RMSE:  5.611252557159647\n",
      "Score:  33.57481637480745 %\n"
     ]
    }
   ],
   "source": [
    "print(\"RMSE: \", math.sqrt(mean_squared_error(y_val1, predicted)))\n",
    "print(\"Score: \", (clf.score(x_val1, y_val1))*100, \"%\")"
   ]
  },
  {
   "cell_type": "code",
   "execution_count": 90,
   "metadata": {},
   "outputs": [],
   "source": [
    "# Just Combining the Lists into a DataFrame for a Better Visualisation\n",
    "Comparison = pd.DataFrame(list(zip(Algorithm, MSE_Score, R2_Score)), columns = ['Algorithm', 'MSE_Score', 'R2_Score'])"
   ]
  },
  {
   "cell_type": "code",
   "execution_count": 91,
   "metadata": {
    "scrolled": false
   },
   "outputs": [
    {
     "data": {
      "text/html": [
       "<div>\n",
       "<style scoped>\n",
       "    .dataframe tbody tr th:only-of-type {\n",
       "        vertical-align: middle;\n",
       "    }\n",
       "\n",
       "    .dataframe tbody tr th {\n",
       "        vertical-align: top;\n",
       "    }\n",
       "\n",
       "    .dataframe thead th {\n",
       "        text-align: right;\n",
       "    }\n",
       "</style>\n",
       "<table border=\"1\" class=\"dataframe\">\n",
       "  <thead>\n",
       "    <tr style=\"text-align: right;\">\n",
       "      <th></th>\n",
       "      <th>Algorithm</th>\n",
       "      <th>MSE_Score</th>\n",
       "      <th>R2_Score</th>\n",
       "    </tr>\n",
       "  </thead>\n",
       "  <tbody>\n",
       "    <tr>\n",
       "      <th>0</th>\n",
       "      <td>Linear Regression</td>\n",
       "      <td>35.471515</td>\n",
       "      <td>0.251670</td>\n",
       "    </tr>\n",
       "    <tr>\n",
       "      <th>1</th>\n",
       "      <td>Support Vector Regression</td>\n",
       "      <td>28.466709</td>\n",
       "      <td>0.399448</td>\n",
       "    </tr>\n",
       "    <tr>\n",
       "      <th>2</th>\n",
       "      <td>Decision Tree Regressor</td>\n",
       "      <td>34.680025</td>\n",
       "      <td>0.268368</td>\n",
       "    </tr>\n",
       "    <tr>\n",
       "      <th>3</th>\n",
       "      <td>Random Forest Regressor</td>\n",
       "      <td>32.211301</td>\n",
       "      <td>0.320450</td>\n",
       "    </tr>\n",
       "    <tr>\n",
       "      <th>4</th>\n",
       "      <td>XGB Regressor</td>\n",
       "      <td>31.486155</td>\n",
       "      <td>0.335748</td>\n",
       "    </tr>\n",
       "  </tbody>\n",
       "</table>\n",
       "</div>"
      ],
      "text/plain": [
       "                   Algorithm  MSE_Score  R2_Score\n",
       "0          Linear Regression  35.471515  0.251670\n",
       "1  Support Vector Regression  28.466709  0.399448\n",
       "2    Decision Tree Regressor  34.680025  0.268368\n",
       "3    Random Forest Regressor  32.211301  0.320450\n",
       "4              XGB Regressor  31.486155  0.335748"
      ]
     },
     "execution_count": 91,
     "metadata": {},
     "output_type": "execute_result"
    }
   ],
   "source": [
    "Comparison"
   ]
  },
  {
   "cell_type": "markdown",
   "metadata": {},
   "source": [
    "# Fitting and checking model accuracy with validation set 2"
   ]
  },
  {
   "cell_type": "code",
   "execution_count": 92,
   "metadata": {},
   "outputs": [],
   "source": [
    "# Defining Lists to Store in the Results and Names of Algorithms\n",
    "MSE_Score = []\n",
    "R2_Score = []\n",
    "Algorithm = []"
   ]
  },
  {
   "cell_type": "code",
   "execution_count": 93,
   "metadata": {},
   "outputs": [],
   "source": [
    "# Fitting Simple Linear Regression to the Training Set\n",
    "Algorithm.append('Linear Regression')\n",
    "clf = LinearRegression()\n",
    "clf.fit(x_train, y_train)\n",
    "\n",
    "# Predicting the val2 Results\n",
    "predicted = clf.predict(x_val2)"
   ]
  },
  {
   "cell_type": "code",
   "execution_count": 94,
   "metadata": {},
   "outputs": [],
   "source": [
    "# Appending the Scores For Visualisation at a Later Part\n",
    "MSE_Score.append(mean_squared_error(y_val2, predicted))\n",
    "R2_Score.append(r2_score(y_val2, predicted))"
   ]
  },
  {
   "cell_type": "code",
   "execution_count": 95,
   "metadata": {},
   "outputs": [
    {
     "name": "stdout",
     "output_type": "stream",
     "text": [
      "RMSE:  7.47686743951441\n",
      "Score:  39.881569125603754 %\n"
     ]
    }
   ],
   "source": [
    "\n",
    "print(\"RMSE: \", math.sqrt(mean_squared_error(y_val2, predicted)))\n",
    "print(\"Score: \", (clf.score(x_val2, y_val2))*100, \"%\")\n"
   ]
  },
  {
   "cell_type": "code",
   "execution_count": 96,
   "metadata": {},
   "outputs": [],
   "source": [
    "# Fitting SVR to the Training Set\n",
    "Algorithm.append('Support Vector Regression')\n",
    "clf = SVR()\n",
    "clf.fit(x_train, y_train)\n",
    "\n",
    "# Predicting the val2 Results\n",
    "predicted = clf.predict(x_val2)"
   ]
  },
  {
   "cell_type": "code",
   "execution_count": 97,
   "metadata": {},
   "outputs": [],
   "source": [
    "# Appending the Scores For Visualisation at a Later Part\n",
    "MSE_Score.append(mean_squared_error(y_val2, predicted))\n",
    "R2_Score.append(r2_score(y_val2, predicted))"
   ]
  },
  {
   "cell_type": "code",
   "execution_count": 98,
   "metadata": {},
   "outputs": [
    {
     "name": "stdout",
     "output_type": "stream",
     "text": [
      "RMSE:  7.41378348228354\n",
      "Score:  40.89175405742844 %\n"
     ]
    }
   ],
   "source": [
    "print(\"RMSE: \", math.sqrt(mean_squared_error(y_val2, predicted)))\n",
    "print(\"Score: \", (clf.score(x_val2, y_val2))*100, \"%\")"
   ]
  },
  {
   "cell_type": "code",
   "execution_count": 99,
   "metadata": {},
   "outputs": [],
   "source": [
    "# Fitting Decision Tree to the Training Set\n",
    "Algorithm.append('Decision Tree Regressor')\n",
    "clf = DecisionTreeRegressor()\n",
    "clf.fit(x_train, y_train)\n",
    "\n",
    "# Predicting the val2 Results\n",
    "predicted = clf.predict(x_val2)"
   ]
  },
  {
   "cell_type": "code",
   "execution_count": 100,
   "metadata": {},
   "outputs": [],
   "source": [
    "MSE_Score.append(mean_squared_error(y_val2, predicted))\n",
    "R2_Score.append(r2_score(y_val2, predicted))"
   ]
  },
  {
   "cell_type": "code",
   "execution_count": 101,
   "metadata": {},
   "outputs": [
    {
     "name": "stdout",
     "output_type": "stream",
     "text": [
      "RMSE:  7.532056467567786\n",
      "Score:  38.99078888202213 %\n"
     ]
    }
   ],
   "source": [
    "print(\"RMSE: \", math.sqrt(mean_squared_error(y_val2, predicted)))\n",
    "print(\"Score: \", (clf.score(x_val2, y_val2))*100, \"%\")"
   ]
  },
  {
   "cell_type": "code",
   "execution_count": 102,
   "metadata": {},
   "outputs": [],
   "source": [
    "# Fitting Random Forest Regressor Tree to the Training Set\n",
    "Algorithm.append('Random Forest Regressor')\n",
    "clf = RandomForestRegressor()\n",
    "clf.fit(x_train, y_train)\n",
    "\n",
    "# Predicting the val2 Results\n",
    "predicted = clf.predict(x_val2)"
   ]
  },
  {
   "cell_type": "code",
   "execution_count": 103,
   "metadata": {},
   "outputs": [],
   "source": [
    "# Appending the Scores For Visualisation at a Later Part\n",
    "MSE_Score.append(mean_squared_error(y_val2, predicted))\n",
    "R2_Score.append(r2_score(y_val2, predicted))"
   ]
  },
  {
   "cell_type": "code",
   "execution_count": 104,
   "metadata": {},
   "outputs": [
    {
     "name": "stdout",
     "output_type": "stream",
     "text": [
      "RMSE:  7.381909522491092\n",
      "Score:  41.39890776750743 %\n"
     ]
    }
   ],
   "source": [
    "print(\"RMSE: \", math.sqrt(mean_squared_error(y_val2, predicted)))\n",
    "print(\"Score: \", (clf.score(x_val2, y_val2))*100, \"%\")"
   ]
  },
  {
   "cell_type": "code",
   "execution_count": 105,
   "metadata": {},
   "outputs": [],
   "source": [
    "# Fitting XGBoost Regressor to the Training Set\n",
    "Algorithm.append('XGB Regressor')\n",
    "clf = xgb.XGBRegressor()\n",
    "clf.fit(x_train, y_train)\n",
    "\n",
    "# Predicting the Validation2 Results\n",
    "predicted = clf.predict(x_val2)"
   ]
  },
  {
   "cell_type": "code",
   "execution_count": 106,
   "metadata": {},
   "outputs": [],
   "source": [
    "# Appending the Scores For Visualisation at a Later Part\n",
    "MSE_Score.append(mean_squared_error(y_val2, predicted))\n",
    "R2_Score.append(r2_score(y_val2, predicted))"
   ]
  },
  {
   "cell_type": "code",
   "execution_count": 107,
   "metadata": {},
   "outputs": [
    {
     "name": "stdout",
     "output_type": "stream",
     "text": [
      "RMSE:  7.232006682140051\n",
      "Score:  43.7547421159881 %\n"
     ]
    }
   ],
   "source": [
    "print(\"RMSE: \", math.sqrt(mean_squared_error(y_val2, predicted)))\n",
    "print(\"Score: \", (clf.score(x_val2, y_val2))*100, \"%\")"
   ]
  },
  {
   "cell_type": "code",
   "execution_count": 108,
   "metadata": {},
   "outputs": [],
   "source": [
    "# Just Combining the Lists into a DataFrame for a Better Visualisation\n",
    "Comparison = pd.DataFrame(list(zip(Algorithm, MSE_Score, R2_Score)), columns = ['Algorithm', 'MSE_Score', 'R2_Score'])"
   ]
  },
  {
   "cell_type": "code",
   "execution_count": 109,
   "metadata": {
    "scrolled": false
   },
   "outputs": [
    {
     "data": {
      "text/html": [
       "<div>\n",
       "<style scoped>\n",
       "    .dataframe tbody tr th:only-of-type {\n",
       "        vertical-align: middle;\n",
       "    }\n",
       "\n",
       "    .dataframe tbody tr th {\n",
       "        vertical-align: top;\n",
       "    }\n",
       "\n",
       "    .dataframe thead th {\n",
       "        text-align: right;\n",
       "    }\n",
       "</style>\n",
       "<table border=\"1\" class=\"dataframe\">\n",
       "  <thead>\n",
       "    <tr style=\"text-align: right;\">\n",
       "      <th></th>\n",
       "      <th>Algorithm</th>\n",
       "      <th>MSE_Score</th>\n",
       "      <th>R2_Score</th>\n",
       "    </tr>\n",
       "  </thead>\n",
       "  <tbody>\n",
       "    <tr>\n",
       "      <th>0</th>\n",
       "      <td>Linear Regression</td>\n",
       "      <td>55.903547</td>\n",
       "      <td>0.398816</td>\n",
       "    </tr>\n",
       "    <tr>\n",
       "      <th>1</th>\n",
       "      <td>Support Vector Regression</td>\n",
       "      <td>54.964186</td>\n",
       "      <td>0.408918</td>\n",
       "    </tr>\n",
       "    <tr>\n",
       "      <th>2</th>\n",
       "      <td>Decision Tree Regressor</td>\n",
       "      <td>56.731875</td>\n",
       "      <td>0.389908</td>\n",
       "    </tr>\n",
       "    <tr>\n",
       "      <th>3</th>\n",
       "      <td>Random Forest Regressor</td>\n",
       "      <td>54.492588</td>\n",
       "      <td>0.413989</td>\n",
       "    </tr>\n",
       "    <tr>\n",
       "      <th>4</th>\n",
       "      <td>XGB Regressor</td>\n",
       "      <td>52.301921</td>\n",
       "      <td>0.437547</td>\n",
       "    </tr>\n",
       "  </tbody>\n",
       "</table>\n",
       "</div>"
      ],
      "text/plain": [
       "                   Algorithm  MSE_Score  R2_Score\n",
       "0          Linear Regression  55.903547  0.398816\n",
       "1  Support Vector Regression  54.964186  0.408918\n",
       "2    Decision Tree Regressor  56.731875  0.389908\n",
       "3    Random Forest Regressor  54.492588  0.413989\n",
       "4              XGB Regressor  52.301921  0.437547"
      ]
     },
     "execution_count": 109,
     "metadata": {},
     "output_type": "execute_result"
    }
   ],
   "source": [
    "#Score and Error\n",
    "Comparison"
   ]
  },
  {
   "cell_type": "markdown",
   "metadata": {},
   "source": [
    "# Feeding test data into the trained model and getting the predicted delay."
   ]
  },
  {
   "cell_type": "code",
   "execution_count": 110,
   "metadata": {},
   "outputs": [],
   "source": [
    "# Fitting SVR to the Test Set\n",
    "clf = SVR()\n",
    "clf.fit(x_train, y_train)\n",
    "\n",
    "# Predicting the Test Set Results\n",
    "predicted = clf.predict(x_test)"
   ]
  },
  {
   "cell_type": "code",
   "execution_count": 111,
   "metadata": {},
   "outputs": [],
   "source": [
    "#Adding the predicted delay colunm to the test_final data set.\n",
    "test_final['delay'] = predicted"
   ]
  },
  {
   "cell_type": "code",
   "execution_count": 112,
   "metadata": {},
   "outputs": [
    {
     "data": {
      "text/plain": [
       "3911"
      ]
     },
     "execution_count": 112,
     "metadata": {},
     "output_type": "execute_result"
    }
   ],
   "source": [
    "len(predicted)"
   ]
  },
  {
   "cell_type": "code",
   "execution_count": 113,
   "metadata": {},
   "outputs": [
    {
     "data": {
      "text/html": [
       "<div>\n",
       "<style scoped>\n",
       "    .dataframe tbody tr th:only-of-type {\n",
       "        vertical-align: middle;\n",
       "    }\n",
       "\n",
       "    .dataframe tbody tr th {\n",
       "        vertical-align: top;\n",
       "    }\n",
       "\n",
       "    .dataframe thead th {\n",
       "        text-align: right;\n",
       "    }\n",
       "</style>\n",
       "<table border=\"1\" class=\"dataframe\">\n",
       "  <thead>\n",
       "    <tr style=\"text-align: right;\">\n",
       "      <th></th>\n",
       "      <th>business_code</th>\n",
       "      <th>name_customer</th>\n",
       "      <th>total_open_amount</th>\n",
       "      <th>cust_payment_terms</th>\n",
       "      <th>due_create</th>\n",
       "      <th>create_base</th>\n",
       "      <th>due_base</th>\n",
       "      <th>doc_create_month</th>\n",
       "      <th>due_month</th>\n",
       "      <th>base_create_month</th>\n",
       "    </tr>\n",
       "  </thead>\n",
       "  <tbody>\n",
       "    <tr>\n",
       "      <th>0</th>\n",
       "      <td>0</td>\n",
       "      <td>-2.308036</td>\n",
       "      <td>542.11</td>\n",
       "      <td>0.0</td>\n",
       "      <td>15</td>\n",
       "      <td>0</td>\n",
       "      <td>15</td>\n",
       "      <td>3</td>\n",
       "      <td>4</td>\n",
       "      <td>3</td>\n",
       "    </tr>\n",
       "    <tr>\n",
       "      <th>1</th>\n",
       "      <td>0</td>\n",
       "      <td>-0.938272</td>\n",
       "      <td>106298.31</td>\n",
       "      <td>2.0</td>\n",
       "      <td>15</td>\n",
       "      <td>0</td>\n",
       "      <td>15</td>\n",
       "      <td>4</td>\n",
       "      <td>4</td>\n",
       "      <td>4</td>\n",
       "    </tr>\n",
       "    <tr>\n",
       "      <th>2</th>\n",
       "      <td>0</td>\n",
       "      <td>3.333333</td>\n",
       "      <td>24303.64</td>\n",
       "      <td>1.0</td>\n",
       "      <td>15</td>\n",
       "      <td>0</td>\n",
       "      <td>15</td>\n",
       "      <td>5</td>\n",
       "      <td>5</td>\n",
       "      <td>5</td>\n",
       "    </tr>\n",
       "    <tr>\n",
       "      <th>3</th>\n",
       "      <td>0</td>\n",
       "      <td>1.755556</td>\n",
       "      <td>74761.35</td>\n",
       "      <td>1.0</td>\n",
       "      <td>15</td>\n",
       "      <td>0</td>\n",
       "      <td>15</td>\n",
       "      <td>3</td>\n",
       "      <td>4</td>\n",
       "      <td>3</td>\n",
       "    </tr>\n",
       "    <tr>\n",
       "      <th>4</th>\n",
       "      <td>0</td>\n",
       "      <td>-2.178674</td>\n",
       "      <td>3983.68</td>\n",
       "      <td>0.0</td>\n",
       "      <td>15</td>\n",
       "      <td>0</td>\n",
       "      <td>15</td>\n",
       "      <td>4</td>\n",
       "      <td>4</td>\n",
       "      <td>4</td>\n",
       "    </tr>\n",
       "  </tbody>\n",
       "</table>\n",
       "</div>"
      ],
      "text/plain": [
       "   business_code  name_customer  total_open_amount  cust_payment_terms  \\\n",
       "0              0      -2.308036             542.11                 0.0   \n",
       "1              0      -0.938272          106298.31                 2.0   \n",
       "2              0       3.333333           24303.64                 1.0   \n",
       "3              0       1.755556           74761.35                 1.0   \n",
       "4              0      -2.178674            3983.68                 0.0   \n",
       "\n",
       "   due_create  create_base  due_base  doc_create_month  due_month  \\\n",
       "0          15            0        15                 3          4   \n",
       "1          15            0        15                 4          4   \n",
       "2          15            0        15                 5          5   \n",
       "3          15            0        15                 3          4   \n",
       "4          15            0        15                 4          4   \n",
       "\n",
       "   base_create_month  \n",
       "0                  3  \n",
       "1                  4  \n",
       "2                  5  \n",
       "3                  3  \n",
       "4                  4  "
      ]
     },
     "execution_count": 113,
     "metadata": {},
     "output_type": "execute_result"
    }
   ],
   "source": [
    "test.head()"
   ]
  },
  {
   "cell_type": "code",
   "execution_count": 114,
   "metadata": {},
   "outputs": [
    {
     "data": {
      "text/plain": [
       "(3911, 20)"
      ]
     },
     "execution_count": 114,
     "metadata": {},
     "output_type": "execute_result"
    }
   ],
   "source": [
    "test_final.shape"
   ]
  },
  {
   "cell_type": "code",
   "execution_count": 121,
   "metadata": {},
   "outputs": [],
   "source": [
    "test_final.drop('clear_date',axis = 1, inplace = True)"
   ]
  },
  {
   "cell_type": "code",
   "execution_count": 122,
   "metadata": {},
   "outputs": [],
   "source": [
    "#Calculating predicted clear date.\n",
    "import datetime as dt\n",
    "test_final['predicted_clear_date'] = test_final['due_in_date'] + test_final['delay'].map(dt.timedelta)"
   ]
  },
  {
   "cell_type": "code",
   "execution_count": 129,
   "metadata": {},
   "outputs": [],
   "source": [
    "#Calculating aging bucket.\n",
    "test_final['Aging_Bucket'] = \"\"\n",
    "test_final.loc[test_final['delay'].apply(int)>60,'Aging_Bucket'] = \">60\"\n",
    "test_final.loc[(test_final['delay'].apply(int)>= 46) & (test_final['delay'].apply(int)<= 60),'Aging_Bucket'] =\"46-60\"\n",
    "test_final.loc[(test_final['delay'].apply(int)>= 31) & (test_final['delay'].apply(int)<= 45),'Aging_Bucket'] =\"31-45\"\n",
    "test_final.loc[(test_final['delay'].apply(int)<= 30) & (test_final['delay'].apply(int)>= 16),'Aging_Bucket'] =\"16-30\"\n",
    "test_final.loc[(test_final['delay'].apply(int)<= 15) & (test_final['delay'].apply(int)>= 0),'Aging_Bucket'] = \"0-15\"\n",
    "test_final.loc[test_final['delay'].apply(int)< 0,'Aging_Bucket'] = \"No Delay\"\n"
   ]
  },
  {
   "cell_type": "code",
   "execution_count": 131,
   "metadata": {},
   "outputs": [
    {
     "data": {
      "text/html": [
       "<div>\n",
       "<style scoped>\n",
       "    .dataframe tbody tr th:only-of-type {\n",
       "        vertical-align: middle;\n",
       "    }\n",
       "\n",
       "    .dataframe tbody tr th {\n",
       "        vertical-align: top;\n",
       "    }\n",
       "\n",
       "    .dataframe thead th {\n",
       "        text-align: right;\n",
       "    }\n",
       "</style>\n",
       "<table border=\"1\" class=\"dataframe\">\n",
       "  <thead>\n",
       "    <tr style=\"text-align: right;\">\n",
       "      <th></th>\n",
       "      <th>business_code</th>\n",
       "      <th>cust_number</th>\n",
       "      <th>name_customer</th>\n",
       "      <th>buisness_year</th>\n",
       "      <th>doc_id</th>\n",
       "      <th>posting_date</th>\n",
       "      <th>document_create_date</th>\n",
       "      <th>document_create_date.1</th>\n",
       "      <th>due_in_date</th>\n",
       "      <th>invoice_currency</th>\n",
       "      <th>document type</th>\n",
       "      <th>posting_id</th>\n",
       "      <th>area_business</th>\n",
       "      <th>total_open_amount</th>\n",
       "      <th>baseline_create_date</th>\n",
       "      <th>cust_payment_terms</th>\n",
       "      <th>invoice_id</th>\n",
       "      <th>isOpen</th>\n",
       "      <th>delay</th>\n",
       "      <th>predicted_clear_date</th>\n",
       "    </tr>\n",
       "    <tr>\n",
       "      <th>Aging_Bucket</th>\n",
       "      <th></th>\n",
       "      <th></th>\n",
       "      <th></th>\n",
       "      <th></th>\n",
       "      <th></th>\n",
       "      <th></th>\n",
       "      <th></th>\n",
       "      <th></th>\n",
       "      <th></th>\n",
       "      <th></th>\n",
       "      <th></th>\n",
       "      <th></th>\n",
       "      <th></th>\n",
       "      <th></th>\n",
       "      <th></th>\n",
       "      <th></th>\n",
       "      <th></th>\n",
       "      <th></th>\n",
       "      <th></th>\n",
       "      <th></th>\n",
       "    </tr>\n",
       "  </thead>\n",
       "  <tbody>\n",
       "    <tr>\n",
       "      <th>0-15</th>\n",
       "      <td>2226</td>\n",
       "      <td>2226</td>\n",
       "      <td>2226</td>\n",
       "      <td>2226</td>\n",
       "      <td>2226</td>\n",
       "      <td>2226</td>\n",
       "      <td>2226</td>\n",
       "      <td>2226</td>\n",
       "      <td>2226</td>\n",
       "      <td>2226</td>\n",
       "      <td>2226</td>\n",
       "      <td>2226</td>\n",
       "      <td>0</td>\n",
       "      <td>2226</td>\n",
       "      <td>2226</td>\n",
       "      <td>2226</td>\n",
       "      <td>2226</td>\n",
       "      <td>2226</td>\n",
       "      <td>2226</td>\n",
       "      <td>2226</td>\n",
       "    </tr>\n",
       "    <tr>\n",
       "      <th>16-30</th>\n",
       "      <td>3</td>\n",
       "      <td>3</td>\n",
       "      <td>3</td>\n",
       "      <td>3</td>\n",
       "      <td>3</td>\n",
       "      <td>3</td>\n",
       "      <td>3</td>\n",
       "      <td>3</td>\n",
       "      <td>3</td>\n",
       "      <td>3</td>\n",
       "      <td>3</td>\n",
       "      <td>3</td>\n",
       "      <td>0</td>\n",
       "      <td>3</td>\n",
       "      <td>3</td>\n",
       "      <td>3</td>\n",
       "      <td>3</td>\n",
       "      <td>3</td>\n",
       "      <td>3</td>\n",
       "      <td>3</td>\n",
       "    </tr>\n",
       "    <tr>\n",
       "      <th>31-45</th>\n",
       "      <td>18</td>\n",
       "      <td>18</td>\n",
       "      <td>18</td>\n",
       "      <td>18</td>\n",
       "      <td>18</td>\n",
       "      <td>18</td>\n",
       "      <td>18</td>\n",
       "      <td>18</td>\n",
       "      <td>18</td>\n",
       "      <td>18</td>\n",
       "      <td>18</td>\n",
       "      <td>18</td>\n",
       "      <td>0</td>\n",
       "      <td>18</td>\n",
       "      <td>18</td>\n",
       "      <td>18</td>\n",
       "      <td>18</td>\n",
       "      <td>18</td>\n",
       "      <td>18</td>\n",
       "      <td>18</td>\n",
       "    </tr>\n",
       "    <tr>\n",
       "      <th>46-60</th>\n",
       "      <td>2</td>\n",
       "      <td>2</td>\n",
       "      <td>2</td>\n",
       "      <td>2</td>\n",
       "      <td>2</td>\n",
       "      <td>2</td>\n",
       "      <td>2</td>\n",
       "      <td>2</td>\n",
       "      <td>2</td>\n",
       "      <td>2</td>\n",
       "      <td>2</td>\n",
       "      <td>2</td>\n",
       "      <td>0</td>\n",
       "      <td>2</td>\n",
       "      <td>2</td>\n",
       "      <td>2</td>\n",
       "      <td>2</td>\n",
       "      <td>2</td>\n",
       "      <td>2</td>\n",
       "      <td>2</td>\n",
       "    </tr>\n",
       "    <tr>\n",
       "      <th>No Delay</th>\n",
       "      <td>1662</td>\n",
       "      <td>1662</td>\n",
       "      <td>1662</td>\n",
       "      <td>1662</td>\n",
       "      <td>1662</td>\n",
       "      <td>1662</td>\n",
       "      <td>1662</td>\n",
       "      <td>1662</td>\n",
       "      <td>1662</td>\n",
       "      <td>1662</td>\n",
       "      <td>1662</td>\n",
       "      <td>1662</td>\n",
       "      <td>0</td>\n",
       "      <td>1662</td>\n",
       "      <td>1662</td>\n",
       "      <td>1662</td>\n",
       "      <td>1662</td>\n",
       "      <td>1662</td>\n",
       "      <td>1662</td>\n",
       "      <td>1662</td>\n",
       "    </tr>\n",
       "  </tbody>\n",
       "</table>\n",
       "</div>"
      ],
      "text/plain": [
       "              business_code  cust_number  name_customer  buisness_year  \\\n",
       "Aging_Bucket                                                             \n",
       "0-15                   2226         2226           2226           2226   \n",
       "16-30                     3            3              3              3   \n",
       "31-45                    18           18             18             18   \n",
       "46-60                     2            2              2              2   \n",
       "No Delay               1662         1662           1662           1662   \n",
       "\n",
       "              doc_id  posting_date  document_create_date  \\\n",
       "Aging_Bucket                                               \n",
       "0-15            2226          2226                  2226   \n",
       "16-30              3             3                     3   \n",
       "31-45             18            18                    18   \n",
       "46-60              2             2                     2   \n",
       "No Delay        1662          1662                  1662   \n",
       "\n",
       "              document_create_date.1  due_in_date  invoice_currency  \\\n",
       "Aging_Bucket                                                          \n",
       "0-15                            2226         2226              2226   \n",
       "16-30                              3            3                 3   \n",
       "31-45                             18           18                18   \n",
       "46-60                              2            2                 2   \n",
       "No Delay                        1662         1662              1662   \n",
       "\n",
       "              document type  posting_id  area_business  total_open_amount  \\\n",
       "Aging_Bucket                                                                \n",
       "0-15                   2226        2226              0               2226   \n",
       "16-30                     3           3              0                  3   \n",
       "31-45                    18          18              0                 18   \n",
       "46-60                     2           2              0                  2   \n",
       "No Delay               1662        1662              0               1662   \n",
       "\n",
       "              baseline_create_date  cust_payment_terms  invoice_id  isOpen  \\\n",
       "Aging_Bucket                                                                 \n",
       "0-15                          2226                2226        2226    2226   \n",
       "16-30                            3                   3           3       3   \n",
       "31-45                           18                  18          18      18   \n",
       "46-60                            2                   2           2       2   \n",
       "No Delay                      1662                1662        1662    1662   \n",
       "\n",
       "              delay  predicted_clear_date  \n",
       "Aging_Bucket                               \n",
       "0-15           2226                  2226  \n",
       "16-30             3                     3  \n",
       "31-45            18                    18  \n",
       "46-60             2                     2  \n",
       "No Delay       1662                  1662  "
      ]
     },
     "execution_count": 131,
     "metadata": {},
     "output_type": "execute_result"
    }
   ],
   "source": [
    "test_final.groupby('Aging_Bucket').count()"
   ]
  },
  {
   "cell_type": "markdown",
   "metadata": {},
   "source": [
    "# Final Test Set with predicted clear date and bucketization column."
   ]
  },
  {
   "cell_type": "code",
   "execution_count": 130,
   "metadata": {},
   "outputs": [
    {
     "data": {
      "text/html": [
       "<div>\n",
       "<style scoped>\n",
       "    .dataframe tbody tr th:only-of-type {\n",
       "        vertical-align: middle;\n",
       "    }\n",
       "\n",
       "    .dataframe tbody tr th {\n",
       "        vertical-align: top;\n",
       "    }\n",
       "\n",
       "    .dataframe thead th {\n",
       "        text-align: right;\n",
       "    }\n",
       "</style>\n",
       "<table border=\"1\" class=\"dataframe\">\n",
       "  <thead>\n",
       "    <tr style=\"text-align: right;\">\n",
       "      <th></th>\n",
       "      <th>business_code</th>\n",
       "      <th>cust_number</th>\n",
       "      <th>name_customer</th>\n",
       "      <th>buisness_year</th>\n",
       "      <th>doc_id</th>\n",
       "      <th>posting_date</th>\n",
       "      <th>document_create_date</th>\n",
       "      <th>document_create_date.1</th>\n",
       "      <th>due_in_date</th>\n",
       "      <th>invoice_currency</th>\n",
       "      <th>...</th>\n",
       "      <th>posting_id</th>\n",
       "      <th>area_business</th>\n",
       "      <th>total_open_amount</th>\n",
       "      <th>baseline_create_date</th>\n",
       "      <th>cust_payment_terms</th>\n",
       "      <th>invoice_id</th>\n",
       "      <th>isOpen</th>\n",
       "      <th>delay</th>\n",
       "      <th>predicted_clear_date</th>\n",
       "      <th>Aging_Bucket</th>\n",
       "    </tr>\n",
       "  </thead>\n",
       "  <tbody>\n",
       "    <tr>\n",
       "      <th>0</th>\n",
       "      <td>U001</td>\n",
       "      <td>0200769623</td>\n",
       "      <td>WAL-MAR systems</td>\n",
       "      <td>2020.0</td>\n",
       "      <td>1.930667e+09</td>\n",
       "      <td>2020-03-19</td>\n",
       "      <td>20200318</td>\n",
       "      <td>2020-03-19</td>\n",
       "      <td>2020-04-03</td>\n",
       "      <td>USD</td>\n",
       "      <td>...</td>\n",
       "      <td>1.0</td>\n",
       "      <td>NaN</td>\n",
       "      <td>542.11</td>\n",
       "      <td>2020-03-19</td>\n",
       "      <td>NAH4</td>\n",
       "      <td>1.930667e+09</td>\n",
       "      <td>1</td>\n",
       "      <td>-2.650615</td>\n",
       "      <td>2020-03-31 08:23:06.891530</td>\n",
       "      <td>No Delay</td>\n",
       "    </tr>\n",
       "    <tr>\n",
       "      <th>1</th>\n",
       "      <td>U001</td>\n",
       "      <td>0200762301</td>\n",
       "      <td>C&amp;S WH in</td>\n",
       "      <td>2020.0</td>\n",
       "      <td>1.930784e+09</td>\n",
       "      <td>2020-04-14</td>\n",
       "      <td>20200414</td>\n",
       "      <td>2020-04-14</td>\n",
       "      <td>2020-04-29</td>\n",
       "      <td>USD</td>\n",
       "      <td>...</td>\n",
       "      <td>1.0</td>\n",
       "      <td>NaN</td>\n",
       "      <td>106298.31</td>\n",
       "      <td>2020-04-14</td>\n",
       "      <td>NAC6</td>\n",
       "      <td>1.930784e+09</td>\n",
       "      <td>1</td>\n",
       "      <td>-1.387624</td>\n",
       "      <td>2020-04-27 14:41:49.296812</td>\n",
       "      <td>No Delay</td>\n",
       "    </tr>\n",
       "    <tr>\n",
       "      <th>2</th>\n",
       "      <td>U001</td>\n",
       "      <td>0200755701</td>\n",
       "      <td>ASSOCI in</td>\n",
       "      <td>2020.0</td>\n",
       "      <td>1.930848e+09</td>\n",
       "      <td>2020-05-04</td>\n",
       "      <td>20200502</td>\n",
       "      <td>2020-05-04</td>\n",
       "      <td>2020-05-19</td>\n",
       "      <td>USD</td>\n",
       "      <td>...</td>\n",
       "      <td>1.0</td>\n",
       "      <td>NaN</td>\n",
       "      <td>24303.64</td>\n",
       "      <td>2020-05-04</td>\n",
       "      <td>NAA8</td>\n",
       "      <td>1.930848e+09</td>\n",
       "      <td>1</td>\n",
       "      <td>2.576713</td>\n",
       "      <td>2020-05-21 13:50:27.995136</td>\n",
       "      <td>0-15</td>\n",
       "    </tr>\n",
       "    <tr>\n",
       "      <th>3</th>\n",
       "      <td>U001</td>\n",
       "      <td>0200936373</td>\n",
       "      <td>SUPE llc</td>\n",
       "      <td>2020.0</td>\n",
       "      <td>1.930705e+09</td>\n",
       "      <td>2020-03-26</td>\n",
       "      <td>20200326</td>\n",
       "      <td>2020-03-26</td>\n",
       "      <td>2020-04-10</td>\n",
       "      <td>USD</td>\n",
       "      <td>...</td>\n",
       "      <td>1.0</td>\n",
       "      <td>NaN</td>\n",
       "      <td>74761.35</td>\n",
       "      <td>2020-03-26</td>\n",
       "      <td>NAA8</td>\n",
       "      <td>1.930705e+09</td>\n",
       "      <td>1</td>\n",
       "      <td>1.240408</td>\n",
       "      <td>2020-04-11 05:46:11.262630</td>\n",
       "      <td>0-15</td>\n",
       "    </tr>\n",
       "    <tr>\n",
       "      <th>4</th>\n",
       "      <td>U001</td>\n",
       "      <td>0200769623</td>\n",
       "      <td>WAL-MAR corporation</td>\n",
       "      <td>2020.0</td>\n",
       "      <td>1.930779e+09</td>\n",
       "      <td>2020-04-12</td>\n",
       "      <td>20200411</td>\n",
       "      <td>2020-04-12</td>\n",
       "      <td>2020-04-27</td>\n",
       "      <td>USD</td>\n",
       "      <td>...</td>\n",
       "      <td>1.0</td>\n",
       "      <td>NaN</td>\n",
       "      <td>3983.68</td>\n",
       "      <td>2020-04-12</td>\n",
       "      <td>NAH4</td>\n",
       "      <td>1.930779e+09</td>\n",
       "      <td>1</td>\n",
       "      <td>-2.538521</td>\n",
       "      <td>2020-04-24 11:04:31.754740</td>\n",
       "      <td>No Delay</td>\n",
       "    </tr>\n",
       "  </tbody>\n",
       "</table>\n",
       "<p>5 rows × 21 columns</p>\n",
       "</div>"
      ],
      "text/plain": [
       "  business_code cust_number        name_customer  buisness_year        doc_id  \\\n",
       "0          U001  0200769623      WAL-MAR systems         2020.0  1.930667e+09   \n",
       "1          U001  0200762301            C&S WH in         2020.0  1.930784e+09   \n",
       "2          U001  0200755701            ASSOCI in         2020.0  1.930848e+09   \n",
       "3          U001  0200936373             SUPE llc         2020.0  1.930705e+09   \n",
       "4          U001  0200769623  WAL-MAR corporation         2020.0  1.930779e+09   \n",
       "\n",
       "  posting_date  document_create_date document_create_date.1 due_in_date  \\\n",
       "0   2020-03-19              20200318             2020-03-19  2020-04-03   \n",
       "1   2020-04-14              20200414             2020-04-14  2020-04-29   \n",
       "2   2020-05-04              20200502             2020-05-04  2020-05-19   \n",
       "3   2020-03-26              20200326             2020-03-26  2020-04-10   \n",
       "4   2020-04-12              20200411             2020-04-12  2020-04-27   \n",
       "\n",
       "  invoice_currency  ... posting_id  area_business  total_open_amount  \\\n",
       "0              USD  ...        1.0            NaN             542.11   \n",
       "1              USD  ...        1.0            NaN          106298.31   \n",
       "2              USD  ...        1.0            NaN           24303.64   \n",
       "3              USD  ...        1.0            NaN           74761.35   \n",
       "4              USD  ...        1.0            NaN            3983.68   \n",
       "\n",
       "   baseline_create_date cust_payment_terms    invoice_id  isOpen     delay  \\\n",
       "0            2020-03-19               NAH4  1.930667e+09       1 -2.650615   \n",
       "1            2020-04-14               NAC6  1.930784e+09       1 -1.387624   \n",
       "2            2020-05-04               NAA8  1.930848e+09       1  2.576713   \n",
       "3            2020-03-26               NAA8  1.930705e+09       1  1.240408   \n",
       "4            2020-04-12               NAH4  1.930779e+09       1 -2.538521   \n",
       "\n",
       "        predicted_clear_date Aging_Bucket  \n",
       "0 2020-03-31 08:23:06.891530     No Delay  \n",
       "1 2020-04-27 14:41:49.296812     No Delay  \n",
       "2 2020-05-21 13:50:27.995136         0-15  \n",
       "3 2020-04-11 05:46:11.262630         0-15  \n",
       "4 2020-04-24 11:04:31.754740     No Delay  \n",
       "\n",
       "[5 rows x 21 columns]"
      ]
     },
     "execution_count": 130,
     "metadata": {},
     "output_type": "execute_result"
    }
   ],
   "source": [
    "test_final.head()"
   ]
  },
  {
   "cell_type": "code",
   "execution_count": null,
   "metadata": {},
   "outputs": [],
   "source": []
  }
 ],
 "metadata": {
  "kernelspec": {
   "display_name": "Python 3",
   "language": "python",
   "name": "python3"
  },
  "language_info": {
   "codemirror_mode": {
    "name": "ipython",
    "version": 3
   },
   "file_extension": ".py",
   "mimetype": "text/x-python",
   "name": "python",
   "nbconvert_exporter": "python",
   "pygments_lexer": "ipython3",
   "version": "3.7.7"
  }
 },
 "nbformat": 4,
 "nbformat_minor": 4
}
